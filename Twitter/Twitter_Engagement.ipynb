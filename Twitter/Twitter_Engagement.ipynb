{
 "cells": [
  {
   "cell_type": "code",
   "execution_count": 46,
   "metadata": {
    "vscode": {
     "languageId": "r"
    }
   },
   "outputs": [],
   "source": [
    "library(tidyverse)\n",
    "library(dplyr)\n",
    "library(\"readxl\")\n",
    "library(\"stringr\")\n",
    "library(psych)\n",
    "library(ggplot2)\n",
    "library(reshape2)\n",
    "library(scales)\n",
    "setwd(\"D:/Study/DATA419/Group Project/\")"
   ]
  },
  {
   "cell_type": "markdown",
   "metadata": {},
   "source": [
    "# Follower Rank\n",
    "## Follower Rank - The most popular group"
   ]
  },
  {
   "cell_type": "code",
   "execution_count": 47,
   "metadata": {
    "vscode": {
     "languageId": "r"
    }
   },
   "outputs": [
    {
     "data": {
      "text/html": [
       "<table class=\"dataframe\">\n",
       "<caption>A data.frame: 20 × 2</caption>\n",
       "<thead>\n",
       "\t<tr><th></th><th scope=col>screen_name</th><th scope=col>followers_count</th></tr>\n",
       "\t<tr><th></th><th scope=col>&lt;fct&gt;</th><th scope=col>&lt;int&gt;</th></tr>\n",
       "</thead>\n",
       "<tbody>\n",
       "\t<tr><th scope=row>1</th><td>BLACKPINK    </td><td>  6531762</td></tr>\n",
       "\t<tr><th scope=row>2</th><td>justinbieber </td><td>114200324</td></tr>\n",
       "\t<tr><th scope=row>3</th><td>BTS_twt      </td><td> 46354472</td></tr>\n",
       "\t<tr><th scope=row>4</th><td>marshmello   </td><td>  2431732</td></tr>\n",
       "\t<tr><th scope=row>5</th><td>Eminem       </td><td> 22676979</td></tr>\n",
       "\t<tr><th scope=row>6</th><td>edsheeran    </td><td> 17615939</td></tr>\n",
       "\t<tr><th scope=row>7</th><td>taylorswift13</td><td> 90368646</td></tr>\n",
       "\t<tr><th scope=row>8</th><td>billieeilish </td><td>  6820950</td></tr>\n",
       "\t<tr><th scope=row>9</th><td>katyperry    </td><td>108881521</td></tr>\n",
       "\t<tr><th scope=row>10</th><td>IAmAlanWalker</td><td>   843590</td></tr>\n",
       "\t<tr><th scope=row>11</th><td>sanbenito    </td><td>  4105211</td></tr>\n",
       "\t<tr><th scope=row>12</th><td>rihanna      </td><td>106804391</td></tr>\n",
       "\t<tr><th scope=row>13</th><td>onedirection </td><td> 31167620</td></tr>\n",
       "\t<tr><th scope=row>14</th><td>xxxtentacion </td><td>  2126535</td></tr>\n",
       "\t<tr><th scope=row>15</th><td>daddy_yankee </td><td> 15463023</td></tr>\n",
       "\t<tr><th scope=row>16</th><td>maroon5      </td><td> 14224462</td></tr>\n",
       "\t<tr><th scope=row>17</th><td>shakira      </td><td> 53076315</td></tr>\n",
       "\t<tr><th scope=row>18</th><td>ozuna        </td><td>  2044525</td></tr>\n",
       "\t<tr><th scope=row>19</th><td>BrunoMars    </td><td> 43291133</td></tr>\n",
       "\t<tr><th scope=row>20</th><td>selenagomez  </td><td> 65929166</td></tr>\n",
       "</tbody>\n",
       "</table>\n"
      ],
      "text/latex": [
       "A data.frame: 20 × 2\n",
       "\\begin{tabular}{r|ll}\n",
       "  & screen\\_name & followers\\_count\\\\\n",
       "  & <fct> & <int>\\\\\n",
       "\\hline\n",
       "\t1 & BLACKPINK     &   6531762\\\\\n",
       "\t2 & justinbieber  & 114200324\\\\\n",
       "\t3 & BTS\\_twt       &  46354472\\\\\n",
       "\t4 & marshmello    &   2431732\\\\\n",
       "\t5 & Eminem        &  22676979\\\\\n",
       "\t6 & edsheeran     &  17615939\\\\\n",
       "\t7 & taylorswift13 &  90368646\\\\\n",
       "\t8 & billieeilish  &   6820950\\\\\n",
       "\t9 & katyperry     & 108881521\\\\\n",
       "\t10 & IAmAlanWalker &    843590\\\\\n",
       "\t11 & sanbenito     &   4105211\\\\\n",
       "\t12 & rihanna       & 106804391\\\\\n",
       "\t13 & onedirection  &  31167620\\\\\n",
       "\t14 & xxxtentacion  &   2126535\\\\\n",
       "\t15 & daddy\\_yankee  &  15463023\\\\\n",
       "\t16 & maroon5       &  14224462\\\\\n",
       "\t17 & shakira       &  53076315\\\\\n",
       "\t18 & ozuna         &   2044525\\\\\n",
       "\t19 & BrunoMars     &  43291133\\\\\n",
       "\t20 & selenagomez   &  65929166\\\\\n",
       "\\end{tabular}\n"
      ],
      "text/markdown": [
       "\n",
       "A data.frame: 20 × 2\n",
       "\n",
       "| <!--/--> | screen_name &lt;fct&gt; | followers_count &lt;int&gt; |\n",
       "|---|---|---|\n",
       "| 1 | BLACKPINK     |   6531762 |\n",
       "| 2 | justinbieber  | 114200324 |\n",
       "| 3 | BTS_twt       |  46354472 |\n",
       "| 4 | marshmello    |   2431732 |\n",
       "| 5 | Eminem        |  22676979 |\n",
       "| 6 | edsheeran     |  17615939 |\n",
       "| 7 | taylorswift13 |  90368646 |\n",
       "| 8 | billieeilish  |   6820950 |\n",
       "| 9 | katyperry     | 108881521 |\n",
       "| 10 | IAmAlanWalker |    843590 |\n",
       "| 11 | sanbenito     |   4105211 |\n",
       "| 12 | rihanna       | 106804391 |\n",
       "| 13 | onedirection  |  31167620 |\n",
       "| 14 | xxxtentacion  |   2126535 |\n",
       "| 15 | daddy_yankee  |  15463023 |\n",
       "| 16 | maroon5       |  14224462 |\n",
       "| 17 | shakira       |  53076315 |\n",
       "| 18 | ozuna         |   2044525 |\n",
       "| 19 | BrunoMars     |  43291133 |\n",
       "| 20 | selenagomez   |  65929166 |\n",
       "\n"
      ],
      "text/plain": [
       "   screen_name   followers_count\n",
       "1  BLACKPINK       6531762      \n",
       "2  justinbieber  114200324      \n",
       "3  BTS_twt        46354472      \n",
       "4  marshmello      2431732      \n",
       "5  Eminem         22676979      \n",
       "6  edsheeran      17615939      \n",
       "7  taylorswift13  90368646      \n",
       "8  billieeilish    6820950      \n",
       "9  katyperry     108881521      \n",
       "10 IAmAlanWalker    843590      \n",
       "11 sanbenito       4105211      \n",
       "12 rihanna       106804391      \n",
       "13 onedirection   31167620      \n",
       "14 xxxtentacion    2126535      \n",
       "15 daddy_yankee   15463023      \n",
       "16 maroon5        14224462      \n",
       "17 shakira        53076315      \n",
       "18 ozuna           2044525      \n",
       "19 BrunoMars      43291133      \n",
       "20 selenagomez    65929166      "
      ]
     },
     "metadata": {},
     "output_type": "display_data"
    }
   ],
   "source": [
    "follower_matrix1 <- read.csv(\"artists_info.csv\", row.names = 1)\n",
    "follower_matrix1 <- follower_matrix1[-c(1,4,5)]\n",
    "follower_matrix1"
   ]
  },
  {
   "cell_type": "markdown",
   "metadata": {},
   "source": [
    "Plotting"
   ]
  },
  {
   "cell_type": "code",
   "execution_count": 64,
   "metadata": {
    "vscode": {
     "languageId": "r"
    }
   },
   "outputs": [
    {
     "data": {
      "image/png": "[encoded data removed]",
      "text/plain": [
       "plot without title"
      ]
     },
     "metadata": {
      "image/png": {
       "height": 420,
       "width": 420
      }
     },
     "output_type": "display_data"
    }
   ],
   "source": [
    "follower_matrix1 %>%\n",
    "  mutate(screen_name = fct_reorder(screen_name, followers_count)) %>%\n",
    "ggplot(aes(x=followers_count)) +\n",
    "  theme_grey() +\n",
    "  geom_col(aes(y=screen_name), fill='blue') +\n",
    "  #geom_bar(aes(y=followers_count), fill='blue', stat=\"identity\", position = \"dodge\") +\n",
    "  ylab(\"Artists\") +\n",
    "  xlab(\"Follower Number\") +\n",
    "  theme(axis.title.x = element_text(size=12)) +\n",
    "  #theme(axis.text.x = element_text(angle = 45, vjust = 1, hjust = 1)) +\n",
    "  theme(axis.title.y = element_text(size=12, vjust=2)) +\n",
    "  theme(plot.title = element_text(size=14, hjust = 0.5)) +\n",
    "  ggtitle(\"Follower Number Rank - The 20 most popular artists\") +\n",
    "  scale_x_continuous(position = \"top\", labels = label_number(suffix = \" M\", scale = 1e-6), breaks = seq(0, 120000000, by = 10000000))"
   ]
  },
  {
   "cell_type": "markdown",
   "metadata": {},
   "source": [
    "## Follower Rank - The less popular group"
   ]
  },
  {
   "cell_type": "code",
   "execution_count": 49,
   "metadata": {
    "vscode": {
     "languageId": "r"
    }
   },
   "outputs": [
    {
     "data": {
      "text/html": [
       "<table class=\"dataframe\">\n",
       "<caption>A data.frame: 20 × 2</caption>\n",
       "<thead>\n",
       "\t<tr><th></th><th scope=col>screen_name</th><th scope=col>followers_count</th></tr>\n",
       "\t<tr><th></th><th scope=col>&lt;fct&gt;</th><th scope=col>&lt;int&gt;</th></tr>\n",
       "</thead>\n",
       "<tbody>\n",
       "\t<tr><th scope=row>1</th><td>FKAtwigs       </td><td>469259</td></tr>\n",
       "\t<tr><th scope=row>2</th><td>andygrammer    </td><td>148050</td></tr>\n",
       "\t<tr><th scope=row>3</th><td>c_woodzofficial</td><td>365232</td></tr>\n",
       "\t<tr><th scope=row>4</th><td>beforeyouexit  </td><td>208746</td></tr>\n",
       "\t<tr><th scope=row>5</th><td>rrr001222      </td><td>118978</td></tr>\n",
       "\t<tr><th scope=row>6</th><td>CAVETOWN       </td><td>308193</td></tr>\n",
       "\t<tr><th scope=row>7</th><td>clairo         </td><td>517917</td></tr>\n",
       "\t<tr><th scope=row>8</th><td>oneruel        </td><td>198491</td></tr>\n",
       "\t<tr><th scope=row>9</th><td>Olivertree     </td><td>255125</td></tr>\n",
       "\t<tr><th scope=row>10</th><td>TessaViolet    </td><td>190621</td></tr>\n",
       "\t<tr><th scope=row>11</th><td>alinabaraz     </td><td>163643</td></tr>\n",
       "\t<tr><th scope=row>12</th><td>CigsAfterSexx  </td><td>361809</td></tr>\n",
       "\t<tr><th scope=row>13</th><td>KygoMusic      </td><td>475969</td></tr>\n",
       "\t<tr><th scope=row>14</th><td>ninanesbitt    </td><td>180735</td></tr>\n",
       "\t<tr><th scope=row>15</th><td>cleanbandit    </td><td>410495</td></tr>\n",
       "\t<tr><th scope=row>16</th><td>ChaseAtlantic  </td><td>200576</td></tr>\n",
       "\t<tr><th scope=row>17</th><td>tatemcrae      </td><td>104488</td></tr>\n",
       "\t<tr><th scope=row>18</th><td>hellohonne     </td><td>199058</td></tr>\n",
       "\t<tr><th scope=row>19</th><td>JorjaSmith     </td><td>427003</td></tr>\n",
       "\t<tr><th scope=row>20</th><td>kimpetras      </td><td>212594</td></tr>\n",
       "</tbody>\n",
       "</table>\n"
      ],
      "text/latex": [
       "A data.frame: 20 × 2\n",
       "\\begin{tabular}{r|ll}\n",
       "  & screen\\_name & followers\\_count\\\\\n",
       "  & <fct> & <int>\\\\\n",
       "\\hline\n",
       "\t1 & FKAtwigs        & 469259\\\\\n",
       "\t2 & andygrammer     & 148050\\\\\n",
       "\t3 & c\\_woodzofficial & 365232\\\\\n",
       "\t4 & beforeyouexit   & 208746\\\\\n",
       "\t5 & rrr001222       & 118978\\\\\n",
       "\t6 & CAVETOWN        & 308193\\\\\n",
       "\t7 & clairo          & 517917\\\\\n",
       "\t8 & oneruel         & 198491\\\\\n",
       "\t9 & Olivertree      & 255125\\\\\n",
       "\t10 & TessaViolet     & 190621\\\\\n",
       "\t11 & alinabaraz      & 163643\\\\\n",
       "\t12 & CigsAfterSexx   & 361809\\\\\n",
       "\t13 & KygoMusic       & 475969\\\\\n",
       "\t14 & ninanesbitt     & 180735\\\\\n",
       "\t15 & cleanbandit     & 410495\\\\\n",
       "\t16 & ChaseAtlantic   & 200576\\\\\n",
       "\t17 & tatemcrae       & 104488\\\\\n",
       "\t18 & hellohonne      & 199058\\\\\n",
       "\t19 & JorjaSmith      & 427003\\\\\n",
       "\t20 & kimpetras       & 212594\\\\\n",
       "\\end{tabular}\n"
      ],
      "text/markdown": [
       "\n",
       "A data.frame: 20 × 2\n",
       "\n",
       "| <!--/--> | screen_name &lt;fct&gt; | followers_count &lt;int&gt; |\n",
       "|---|---|---|\n",
       "| 1 | FKAtwigs        | 469259 |\n",
       "| 2 | andygrammer     | 148050 |\n",
       "| 3 | c_woodzofficial | 365232 |\n",
       "| 4 | beforeyouexit   | 208746 |\n",
       "| 5 | rrr001222       | 118978 |\n",
       "| 6 | CAVETOWN        | 308193 |\n",
       "| 7 | clairo          | 517917 |\n",
       "| 8 | oneruel         | 198491 |\n",
       "| 9 | Olivertree      | 255125 |\n",
       "| 10 | TessaViolet     | 190621 |\n",
       "| 11 | alinabaraz      | 163643 |\n",
       "| 12 | CigsAfterSexx   | 361809 |\n",
       "| 13 | KygoMusic       | 475969 |\n",
       "| 14 | ninanesbitt     | 180735 |\n",
       "| 15 | cleanbandit     | 410495 |\n",
       "| 16 | ChaseAtlantic   | 200576 |\n",
       "| 17 | tatemcrae       | 104488 |\n",
       "| 18 | hellohonne      | 199058 |\n",
       "| 19 | JorjaSmith      | 427003 |\n",
       "| 20 | kimpetras       | 212594 |\n",
       "\n"
      ],
      "text/plain": [
       "   screen_name     followers_count\n",
       "1  FKAtwigs        469259         \n",
       "2  andygrammer     148050         \n",
       "3  c_woodzofficial 365232         \n",
       "4  beforeyouexit   208746         \n",
       "5  rrr001222       118978         \n",
       "6  CAVETOWN        308193         \n",
       "7  clairo          517917         \n",
       "8  oneruel         198491         \n",
       "9  Olivertree      255125         \n",
       "10 TessaViolet     190621         \n",
       "11 alinabaraz      163643         \n",
       "12 CigsAfterSexx   361809         \n",
       "13 KygoMusic       475969         \n",
       "14 ninanesbitt     180735         \n",
       "15 cleanbandit     410495         \n",
       "16 ChaseAtlantic   200576         \n",
       "17 tatemcrae       104488         \n",
       "18 hellohonne      199058         \n",
       "19 JorjaSmith      427003         \n",
       "20 kimpetras       212594         "
      ]
     },
     "metadata": {},
     "output_type": "display_data"
    }
   ],
   "source": [
    "follower_matrix2 <- read.csv(\"artists2_info.csv\", row.names = 1)\n",
    "follower_matrix2 <- follower_matrix2[-c(1,4,5)]\n",
    "follower_matrix2"
   ]
  },
  {
   "cell_type": "markdown",
   "metadata": {},
   "source": [
    "Plotting"
   ]
  },
  {
   "cell_type": "code",
   "execution_count": 66,
   "metadata": {
    "vscode": {
     "languageId": "r"
    }
   },
   "outputs": [
    {
     "data": {
      "image/png": "[encoded data removed]",
      "text/plain": [
       "plot without title"
      ]
     },
     "metadata": {
      "image/png": {
       "height": 420,
       "width": 420
      }
     },
     "output_type": "display_data"
    }
   ],
   "source": [
    "follower_matrix2 %>%\n",
    "  mutate(screen_name = fct_reorder(screen_name, followers_count)) %>%\n",
    "ggplot(aes(x=followers_count)) +\n",
    "  theme_grey() +\n",
    "  geom_col(aes(y=screen_name), fill='orange') +\n",
    "  #geom_bar(aes(y=followers_count), fill='blue', stat=\"identity\", position = \"dodge\") +\n",
    "  ylab(\"Artists\") +\n",
    "  xlab(\"Follower Number\") +\n",
    "  theme(axis.title.x = element_text(size=12)) +\n",
    "  #theme(axis.text.x = element_text(angle = 45, vjust = 1, hjust = 1)) +\n",
    "  theme(axis.title.y = element_text(size=12, vjust=2)) +\n",
    "  theme(plot.title = element_text(size=14, hjust = 0.5)) +\n",
    "  ggtitle(\"Follower Number Rank - The 20 less popular artists\") +\n",
    "  scale_x_continuous(position = \"top\", labels = label_number(suffix = \" K\", scale = 1e-3), breaks = seq(0, 600000, by = 100000))"
   ]
  },
  {
   "cell_type": "markdown",
   "metadata": {},
   "source": [
    "# Engagement Analysis\n",
    "## Pre-processing"
   ]
  },
  {
   "cell_type": "code",
   "execution_count": 7,
   "metadata": {
    "vscode": {
     "languageId": "r"
    }
   },
   "outputs": [
    {
     "data": {
      "text/html": [
       "<table class=\"dataframe\">\n",
       "<caption>A data.frame: 20 × 3</caption>\n",
       "<thead>\n",
       "\t<tr><th></th><th scope=col>screen_name</th><th scope=col>followers_count</th><th scope=col>group</th></tr>\n",
       "\t<tr><th></th><th scope=col>&lt;fct&gt;</th><th scope=col>&lt;int&gt;</th><th scope=col>&lt;chr&gt;</th></tr>\n",
       "</thead>\n",
       "<tbody>\n",
       "\t<tr><th scope=row>1</th><td>BLACKPINK    </td><td>  6531762</td><td>20 Most Popular</td></tr>\n",
       "\t<tr><th scope=row>2</th><td>justinbieber </td><td>114200324</td><td>20 Most Popular</td></tr>\n",
       "\t<tr><th scope=row>3</th><td>BTS_twt      </td><td> 46354472</td><td>20 Most Popular</td></tr>\n",
       "\t<tr><th scope=row>4</th><td>marshmello   </td><td>  2431732</td><td>20 Most Popular</td></tr>\n",
       "\t<tr><th scope=row>5</th><td>Eminem       </td><td> 22676979</td><td>20 Most Popular</td></tr>\n",
       "\t<tr><th scope=row>6</th><td>edsheeran    </td><td> 17615939</td><td>20 Most Popular</td></tr>\n",
       "\t<tr><th scope=row>7</th><td>taylorswift13</td><td> 90368646</td><td>20 Most Popular</td></tr>\n",
       "\t<tr><th scope=row>8</th><td>billieeilish </td><td>  6820950</td><td>20 Most Popular</td></tr>\n",
       "\t<tr><th scope=row>9</th><td>katyperry    </td><td>108881521</td><td>20 Most Popular</td></tr>\n",
       "\t<tr><th scope=row>10</th><td>IAmAlanWalker</td><td>   843590</td><td>20 Most Popular</td></tr>\n",
       "\t<tr><th scope=row>11</th><td>sanbenito    </td><td>  4105211</td><td>20 Most Popular</td></tr>\n",
       "\t<tr><th scope=row>12</th><td>rihanna      </td><td>106804391</td><td>20 Most Popular</td></tr>\n",
       "\t<tr><th scope=row>13</th><td>onedirection </td><td> 31167620</td><td>20 Most Popular</td></tr>\n",
       "\t<tr><th scope=row>14</th><td>xxxtentacion </td><td>  2126535</td><td>20 Most Popular</td></tr>\n",
       "\t<tr><th scope=row>15</th><td>daddy_yankee </td><td> 15463023</td><td>20 Most Popular</td></tr>\n",
       "\t<tr><th scope=row>16</th><td>maroon5      </td><td> 14224462</td><td>20 Most Popular</td></tr>\n",
       "\t<tr><th scope=row>17</th><td>shakira      </td><td> 53076315</td><td>20 Most Popular</td></tr>\n",
       "\t<tr><th scope=row>18</th><td>ozuna        </td><td>  2044525</td><td>20 Most Popular</td></tr>\n",
       "\t<tr><th scope=row>19</th><td>BrunoMars    </td><td> 43291133</td><td>20 Most Popular</td></tr>\n",
       "\t<tr><th scope=row>20</th><td>selenagomez  </td><td> 65929166</td><td>20 Most Popular</td></tr>\n",
       "</tbody>\n",
       "</table>\n"
      ],
      "text/latex": [
       "A data.frame: 20 × 3\n",
       "\\begin{tabular}{r|lll}\n",
       "  & screen\\_name & followers\\_count & group\\\\\n",
       "  & <fct> & <int> & <chr>\\\\\n",
       "\\hline\n",
       "\t1 & BLACKPINK     &   6531762 & 20 Most Popular\\\\\n",
       "\t2 & justinbieber  & 114200324 & 20 Most Popular\\\\\n",
       "\t3 & BTS\\_twt       &  46354472 & 20 Most Popular\\\\\n",
       "\t4 & marshmello    &   2431732 & 20 Most Popular\\\\\n",
       "\t5 & Eminem        &  22676979 & 20 Most Popular\\\\\n",
       "\t6 & edsheeran     &  17615939 & 20 Most Popular\\\\\n",
       "\t7 & taylorswift13 &  90368646 & 20 Most Popular\\\\\n",
       "\t8 & billieeilish  &   6820950 & 20 Most Popular\\\\\n",
       "\t9 & katyperry     & 108881521 & 20 Most Popular\\\\\n",
       "\t10 & IAmAlanWalker &    843590 & 20 Most Popular\\\\\n",
       "\t11 & sanbenito     &   4105211 & 20 Most Popular\\\\\n",
       "\t12 & rihanna       & 106804391 & 20 Most Popular\\\\\n",
       "\t13 & onedirection  &  31167620 & 20 Most Popular\\\\\n",
       "\t14 & xxxtentacion  &   2126535 & 20 Most Popular\\\\\n",
       "\t15 & daddy\\_yankee  &  15463023 & 20 Most Popular\\\\\n",
       "\t16 & maroon5       &  14224462 & 20 Most Popular\\\\\n",
       "\t17 & shakira       &  53076315 & 20 Most Popular\\\\\n",
       "\t18 & ozuna         &   2044525 & 20 Most Popular\\\\\n",
       "\t19 & BrunoMars     &  43291133 & 20 Most Popular\\\\\n",
       "\t20 & selenagomez   &  65929166 & 20 Most Popular\\\\\n",
       "\\end{tabular}\n"
      ],
      "text/markdown": [
       "\n",
       "A data.frame: 20 × 3\n",
       "\n",
       "| <!--/--> | screen_name &lt;fct&gt; | followers_count &lt;int&gt; | group &lt;chr&gt; |\n",
       "|---|---|---|---|\n",
       "| 1 | BLACKPINK     |   6531762 | 20 Most Popular |\n",
       "| 2 | justinbieber  | 114200324 | 20 Most Popular |\n",
       "| 3 | BTS_twt       |  46354472 | 20 Most Popular |\n",
       "| 4 | marshmello    |   2431732 | 20 Most Popular |\n",
       "| 5 | Eminem        |  22676979 | 20 Most Popular |\n",
       "| 6 | edsheeran     |  17615939 | 20 Most Popular |\n",
       "| 7 | taylorswift13 |  90368646 | 20 Most Popular |\n",
       "| 8 | billieeilish  |   6820950 | 20 Most Popular |\n",
       "| 9 | katyperry     | 108881521 | 20 Most Popular |\n",
       "| 10 | IAmAlanWalker |    843590 | 20 Most Popular |\n",
       "| 11 | sanbenito     |   4105211 | 20 Most Popular |\n",
       "| 12 | rihanna       | 106804391 | 20 Most Popular |\n",
       "| 13 | onedirection  |  31167620 | 20 Most Popular |\n",
       "| 14 | xxxtentacion  |   2126535 | 20 Most Popular |\n",
       "| 15 | daddy_yankee  |  15463023 | 20 Most Popular |\n",
       "| 16 | maroon5       |  14224462 | 20 Most Popular |\n",
       "| 17 | shakira       |  53076315 | 20 Most Popular |\n",
       "| 18 | ozuna         |   2044525 | 20 Most Popular |\n",
       "| 19 | BrunoMars     |  43291133 | 20 Most Popular |\n",
       "| 20 | selenagomez   |  65929166 | 20 Most Popular |\n",
       "\n"
      ],
      "text/plain": [
       "   screen_name   followers_count group          \n",
       "1  BLACKPINK       6531762       20 Most Popular\n",
       "2  justinbieber  114200324       20 Most Popular\n",
       "3  BTS_twt        46354472       20 Most Popular\n",
       "4  marshmello      2431732       20 Most Popular\n",
       "5  Eminem         22676979       20 Most Popular\n",
       "6  edsheeran      17615939       20 Most Popular\n",
       "7  taylorswift13  90368646       20 Most Popular\n",
       "8  billieeilish    6820950       20 Most Popular\n",
       "9  katyperry     108881521       20 Most Popular\n",
       "10 IAmAlanWalker    843590       20 Most Popular\n",
       "11 sanbenito       4105211       20 Most Popular\n",
       "12 rihanna       106804391       20 Most Popular\n",
       "13 onedirection   31167620       20 Most Popular\n",
       "14 xxxtentacion    2126535       20 Most Popular\n",
       "15 daddy_yankee   15463023       20 Most Popular\n",
       "16 maroon5        14224462       20 Most Popular\n",
       "17 shakira        53076315       20 Most Popular\n",
       "18 ozuna           2044525       20 Most Popular\n",
       "19 BrunoMars      43291133       20 Most Popular\n",
       "20 selenagomez    65929166       20 Most Popular"
      ]
     },
     "metadata": {},
     "output_type": "display_data"
    },
    {
     "data": {
      "text/html": [
       "<table class=\"dataframe\">\n",
       "<caption>A data.frame: 20 × 3</caption>\n",
       "<thead>\n",
       "\t<tr><th></th><th scope=col>screen_name</th><th scope=col>followers_count</th><th scope=col>group</th></tr>\n",
       "\t<tr><th></th><th scope=col>&lt;fct&gt;</th><th scope=col>&lt;int&gt;</th><th scope=col>&lt;chr&gt;</th></tr>\n",
       "</thead>\n",
       "<tbody>\n",
       "\t<tr><th scope=row>1</th><td>FKAtwigs       </td><td>469259</td><td>20 Less Popular</td></tr>\n",
       "\t<tr><th scope=row>2</th><td>andygrammer    </td><td>148050</td><td>20 Less Popular</td></tr>\n",
       "\t<tr><th scope=row>3</th><td>c_woodzofficial</td><td>365232</td><td>20 Less Popular</td></tr>\n",
       "\t<tr><th scope=row>4</th><td>beforeyouexit  </td><td>208746</td><td>20 Less Popular</td></tr>\n",
       "\t<tr><th scope=row>5</th><td>rrr001222      </td><td>118978</td><td>20 Less Popular</td></tr>\n",
       "\t<tr><th scope=row>6</th><td>CAVETOWN       </td><td>308193</td><td>20 Less Popular</td></tr>\n",
       "\t<tr><th scope=row>7</th><td>clairo         </td><td>517917</td><td>20 Less Popular</td></tr>\n",
       "\t<tr><th scope=row>8</th><td>oneruel        </td><td>198491</td><td>20 Less Popular</td></tr>\n",
       "\t<tr><th scope=row>9</th><td>Olivertree     </td><td>255125</td><td>20 Less Popular</td></tr>\n",
       "\t<tr><th scope=row>10</th><td>TessaViolet    </td><td>190621</td><td>20 Less Popular</td></tr>\n",
       "\t<tr><th scope=row>11</th><td>alinabaraz     </td><td>163643</td><td>20 Less Popular</td></tr>\n",
       "\t<tr><th scope=row>12</th><td>CigsAfterSexx  </td><td>361809</td><td>20 Less Popular</td></tr>\n",
       "\t<tr><th scope=row>13</th><td>KygoMusic      </td><td>475969</td><td>20 Less Popular</td></tr>\n",
       "\t<tr><th scope=row>14</th><td>ninanesbitt    </td><td>180735</td><td>20 Less Popular</td></tr>\n",
       "\t<tr><th scope=row>15</th><td>cleanbandit    </td><td>410495</td><td>20 Less Popular</td></tr>\n",
       "\t<tr><th scope=row>16</th><td>ChaseAtlantic  </td><td>200576</td><td>20 Less Popular</td></tr>\n",
       "\t<tr><th scope=row>17</th><td>tatemcrae      </td><td>104488</td><td>20 Less Popular</td></tr>\n",
       "\t<tr><th scope=row>18</th><td>hellohonne     </td><td>199058</td><td>20 Less Popular</td></tr>\n",
       "\t<tr><th scope=row>19</th><td>JorjaSmith     </td><td>427003</td><td>20 Less Popular</td></tr>\n",
       "\t<tr><th scope=row>20</th><td>kimpetras      </td><td>212594</td><td>20 Less Popular</td></tr>\n",
       "</tbody>\n",
       "</table>\n"
      ],
      "text/latex": [
       "A data.frame: 20 × 3\n",
       "\\begin{tabular}{r|lll}\n",
       "  & screen\\_name & followers\\_count & group\\\\\n",
       "  & <fct> & <int> & <chr>\\\\\n",
       "\\hline\n",
       "\t1 & FKAtwigs        & 469259 & 20 Less Popular\\\\\n",
       "\t2 & andygrammer     & 148050 & 20 Less Popular\\\\\n",
       "\t3 & c\\_woodzofficial & 365232 & 20 Less Popular\\\\\n",
       "\t4 & beforeyouexit   & 208746 & 20 Less Popular\\\\\n",
       "\t5 & rrr001222       & 118978 & 20 Less Popular\\\\\n",
       "\t6 & CAVETOWN        & 308193 & 20 Less Popular\\\\\n",
       "\t7 & clairo          & 517917 & 20 Less Popular\\\\\n",
       "\t8 & oneruel         & 198491 & 20 Less Popular\\\\\n",
       "\t9 & Olivertree      & 255125 & 20 Less Popular\\\\\n",
       "\t10 & TessaViolet     & 190621 & 20 Less Popular\\\\\n",
       "\t11 & alinabaraz      & 163643 & 20 Less Popular\\\\\n",
       "\t12 & CigsAfterSexx   & 361809 & 20 Less Popular\\\\\n",
       "\t13 & KygoMusic       & 475969 & 20 Less Popular\\\\\n",
       "\t14 & ninanesbitt     & 180735 & 20 Less Popular\\\\\n",
       "\t15 & cleanbandit     & 410495 & 20 Less Popular\\\\\n",
       "\t16 & ChaseAtlantic   & 200576 & 20 Less Popular\\\\\n",
       "\t17 & tatemcrae       & 104488 & 20 Less Popular\\\\\n",
       "\t18 & hellohonne      & 199058 & 20 Less Popular\\\\\n",
       "\t19 & JorjaSmith      & 427003 & 20 Less Popular\\\\\n",
       "\t20 & kimpetras       & 212594 & 20 Less Popular\\\\\n",
       "\\end{tabular}\n"
      ],
      "text/markdown": [
       "\n",
       "A data.frame: 20 × 3\n",
       "\n",
       "| <!--/--> | screen_name &lt;fct&gt; | followers_count &lt;int&gt; | group &lt;chr&gt; |\n",
       "|---|---|---|---|\n",
       "| 1 | FKAtwigs        | 469259 | 20 Less Popular |\n",
       "| 2 | andygrammer     | 148050 | 20 Less Popular |\n",
       "| 3 | c_woodzofficial | 365232 | 20 Less Popular |\n",
       "| 4 | beforeyouexit   | 208746 | 20 Less Popular |\n",
       "| 5 | rrr001222       | 118978 | 20 Less Popular |\n",
       "| 6 | CAVETOWN        | 308193 | 20 Less Popular |\n",
       "| 7 | clairo          | 517917 | 20 Less Popular |\n",
       "| 8 | oneruel         | 198491 | 20 Less Popular |\n",
       "| 9 | Olivertree      | 255125 | 20 Less Popular |\n",
       "| 10 | TessaViolet     | 190621 | 20 Less Popular |\n",
       "| 11 | alinabaraz      | 163643 | 20 Less Popular |\n",
       "| 12 | CigsAfterSexx   | 361809 | 20 Less Popular |\n",
       "| 13 | KygoMusic       | 475969 | 20 Less Popular |\n",
       "| 14 | ninanesbitt     | 180735 | 20 Less Popular |\n",
       "| 15 | cleanbandit     | 410495 | 20 Less Popular |\n",
       "| 16 | ChaseAtlantic   | 200576 | 20 Less Popular |\n",
       "| 17 | tatemcrae       | 104488 | 20 Less Popular |\n",
       "| 18 | hellohonne      | 199058 | 20 Less Popular |\n",
       "| 19 | JorjaSmith      | 427003 | 20 Less Popular |\n",
       "| 20 | kimpetras       | 212594 | 20 Less Popular |\n",
       "\n"
      ],
      "text/plain": [
       "   screen_name     followers_count group          \n",
       "1  FKAtwigs        469259          20 Less Popular\n",
       "2  andygrammer     148050          20 Less Popular\n",
       "3  c_woodzofficial 365232          20 Less Popular\n",
       "4  beforeyouexit   208746          20 Less Popular\n",
       "5  rrr001222       118978          20 Less Popular\n",
       "6  CAVETOWN        308193          20 Less Popular\n",
       "7  clairo          517917          20 Less Popular\n",
       "8  oneruel         198491          20 Less Popular\n",
       "9  Olivertree      255125          20 Less Popular\n",
       "10 TessaViolet     190621          20 Less Popular\n",
       "11 alinabaraz      163643          20 Less Popular\n",
       "12 CigsAfterSexx   361809          20 Less Popular\n",
       "13 KygoMusic       475969          20 Less Popular\n",
       "14 ninanesbitt     180735          20 Less Popular\n",
       "15 cleanbandit     410495          20 Less Popular\n",
       "16 ChaseAtlantic   200576          20 Less Popular\n",
       "17 tatemcrae       104488          20 Less Popular\n",
       "18 hellohonne      199058          20 Less Popular\n",
       "19 JorjaSmith      427003          20 Less Popular\n",
       "20 kimpetras       212594          20 Less Popular"
      ]
     },
     "metadata": {},
     "output_type": "display_data"
    }
   ],
   "source": [
    "follower_matrix1$group <- c(\"20 Most Popular\")\n",
    "follower_matrix2$group <- c(\"20 Less Popular\")\n",
    "follower_matrix1\n",
    "follower_matrix2"
   ]
  },
  {
   "cell_type": "code",
   "execution_count": 8,
   "metadata": {
    "vscode": {
     "languageId": "r"
    }
   },
   "outputs": [
    {
     "data": {
      "text/html": [
       "<table class=\"dataframe\">\n",
       "<caption>A data.frame: 40 × 7</caption>\n",
       "<thead>\n",
       "\t<tr><th scope=col>screen_name</th><th scope=col>followers_count</th><th scope=col>group</th><th scope=col>average_like</th><th scope=col>average_comment</th><th scope=col>average_retweet</th><th scope=col>average_quote</th></tr>\n",
       "\t<tr><th scope=col>&lt;fct&gt;</th><th scope=col>&lt;int&gt;</th><th scope=col>&lt;chr&gt;</th><th scope=col>&lt;dbl&gt;</th><th scope=col>&lt;dbl&gt;</th><th scope=col>&lt;dbl&gt;</th><th scope=col>&lt;dbl&gt;</th></tr>\n",
       "</thead>\n",
       "<tbody>\n",
       "\t<tr><td>BLACKPINK      </td><td>  6531762</td><td>20 Most Popular</td><td>0</td><td>0</td><td>0</td><td>0</td></tr>\n",
       "\t<tr><td>justinbieber   </td><td>114200324</td><td>20 Most Popular</td><td>0</td><td>0</td><td>0</td><td>0</td></tr>\n",
       "\t<tr><td>BTS_twt        </td><td> 46354472</td><td>20 Most Popular</td><td>0</td><td>0</td><td>0</td><td>0</td></tr>\n",
       "\t<tr><td>marshmello     </td><td>  2431732</td><td>20 Most Popular</td><td>0</td><td>0</td><td>0</td><td>0</td></tr>\n",
       "\t<tr><td>Eminem         </td><td> 22676979</td><td>20 Most Popular</td><td>0</td><td>0</td><td>0</td><td>0</td></tr>\n",
       "\t<tr><td>edsheeran      </td><td> 17615939</td><td>20 Most Popular</td><td>0</td><td>0</td><td>0</td><td>0</td></tr>\n",
       "\t<tr><td>taylorswift13  </td><td> 90368646</td><td>20 Most Popular</td><td>0</td><td>0</td><td>0</td><td>0</td></tr>\n",
       "\t<tr><td>billieeilish   </td><td>  6820950</td><td>20 Most Popular</td><td>0</td><td>0</td><td>0</td><td>0</td></tr>\n",
       "\t<tr><td>katyperry      </td><td>108881521</td><td>20 Most Popular</td><td>0</td><td>0</td><td>0</td><td>0</td></tr>\n",
       "\t<tr><td>IAmAlanWalker  </td><td>   843590</td><td>20 Most Popular</td><td>0</td><td>0</td><td>0</td><td>0</td></tr>\n",
       "\t<tr><td>sanbenito      </td><td>  4105211</td><td>20 Most Popular</td><td>0</td><td>0</td><td>0</td><td>0</td></tr>\n",
       "\t<tr><td>rihanna        </td><td>106804391</td><td>20 Most Popular</td><td>0</td><td>0</td><td>0</td><td>0</td></tr>\n",
       "\t<tr><td>onedirection   </td><td> 31167620</td><td>20 Most Popular</td><td>0</td><td>0</td><td>0</td><td>0</td></tr>\n",
       "\t<tr><td>xxxtentacion   </td><td>  2126535</td><td>20 Most Popular</td><td>0</td><td>0</td><td>0</td><td>0</td></tr>\n",
       "\t<tr><td>daddy_yankee   </td><td> 15463023</td><td>20 Most Popular</td><td>0</td><td>0</td><td>0</td><td>0</td></tr>\n",
       "\t<tr><td>maroon5        </td><td> 14224462</td><td>20 Most Popular</td><td>0</td><td>0</td><td>0</td><td>0</td></tr>\n",
       "\t<tr><td>shakira        </td><td> 53076315</td><td>20 Most Popular</td><td>0</td><td>0</td><td>0</td><td>0</td></tr>\n",
       "\t<tr><td>ozuna          </td><td>  2044525</td><td>20 Most Popular</td><td>0</td><td>0</td><td>0</td><td>0</td></tr>\n",
       "\t<tr><td>BrunoMars      </td><td> 43291133</td><td>20 Most Popular</td><td>0</td><td>0</td><td>0</td><td>0</td></tr>\n",
       "\t<tr><td>selenagomez    </td><td> 65929166</td><td>20 Most Popular</td><td>0</td><td>0</td><td>0</td><td>0</td></tr>\n",
       "\t<tr><td>FKAtwigs       </td><td>   469259</td><td>20 Less Popular</td><td>0</td><td>0</td><td>0</td><td>0</td></tr>\n",
       "\t<tr><td>andygrammer    </td><td>   148050</td><td>20 Less Popular</td><td>0</td><td>0</td><td>0</td><td>0</td></tr>\n",
       "\t<tr><td>c_woodzofficial</td><td>   365232</td><td>20 Less Popular</td><td>0</td><td>0</td><td>0</td><td>0</td></tr>\n",
       "\t<tr><td>beforeyouexit  </td><td>   208746</td><td>20 Less Popular</td><td>0</td><td>0</td><td>0</td><td>0</td></tr>\n",
       "\t<tr><td>rrr001222      </td><td>   118978</td><td>20 Less Popular</td><td>0</td><td>0</td><td>0</td><td>0</td></tr>\n",
       "\t<tr><td>CAVETOWN       </td><td>   308193</td><td>20 Less Popular</td><td>0</td><td>0</td><td>0</td><td>0</td></tr>\n",
       "\t<tr><td>clairo         </td><td>   517917</td><td>20 Less Popular</td><td>0</td><td>0</td><td>0</td><td>0</td></tr>\n",
       "\t<tr><td>oneruel        </td><td>   198491</td><td>20 Less Popular</td><td>0</td><td>0</td><td>0</td><td>0</td></tr>\n",
       "\t<tr><td>Olivertree     </td><td>   255125</td><td>20 Less Popular</td><td>0</td><td>0</td><td>0</td><td>0</td></tr>\n",
       "\t<tr><td>TessaViolet    </td><td>   190621</td><td>20 Less Popular</td><td>0</td><td>0</td><td>0</td><td>0</td></tr>\n",
       "\t<tr><td>alinabaraz     </td><td>   163643</td><td>20 Less Popular</td><td>0</td><td>0</td><td>0</td><td>0</td></tr>\n",
       "\t<tr><td>CigsAfterSexx  </td><td>   361809</td><td>20 Less Popular</td><td>0</td><td>0</td><td>0</td><td>0</td></tr>\n",
       "\t<tr><td>KygoMusic      </td><td>   475969</td><td>20 Less Popular</td><td>0</td><td>0</td><td>0</td><td>0</td></tr>\n",
       "\t<tr><td>ninanesbitt    </td><td>   180735</td><td>20 Less Popular</td><td>0</td><td>0</td><td>0</td><td>0</td></tr>\n",
       "\t<tr><td>cleanbandit    </td><td>   410495</td><td>20 Less Popular</td><td>0</td><td>0</td><td>0</td><td>0</td></tr>\n",
       "\t<tr><td>ChaseAtlantic  </td><td>   200576</td><td>20 Less Popular</td><td>0</td><td>0</td><td>0</td><td>0</td></tr>\n",
       "\t<tr><td>tatemcrae      </td><td>   104488</td><td>20 Less Popular</td><td>0</td><td>0</td><td>0</td><td>0</td></tr>\n",
       "\t<tr><td>hellohonne     </td><td>   199058</td><td>20 Less Popular</td><td>0</td><td>0</td><td>0</td><td>0</td></tr>\n",
       "\t<tr><td>JorjaSmith     </td><td>   427003</td><td>20 Less Popular</td><td>0</td><td>0</td><td>0</td><td>0</td></tr>\n",
       "\t<tr><td>kimpetras      </td><td>   212594</td><td>20 Less Popular</td><td>0</td><td>0</td><td>0</td><td>0</td></tr>\n",
       "</tbody>\n",
       "</table>\n"
      ],
      "text/latex": [
       "A data.frame: 40 × 7\n",
       "\\begin{tabular}{lllllll}\n",
       " screen\\_name & followers\\_count & group & average\\_like & average\\_comment & average\\_retweet & average\\_quote\\\\\n",
       " <fct> & <int> & <chr> & <dbl> & <dbl> & <dbl> & <dbl>\\\\\n",
       "\\hline\n",
       "\t BLACKPINK       &   6531762 & 20 Most Popular & 0 & 0 & 0 & 0\\\\\n",
       "\t justinbieber    & 114200324 & 20 Most Popular & 0 & 0 & 0 & 0\\\\\n",
       "\t BTS\\_twt         &  46354472 & 20 Most Popular & 0 & 0 & 0 & 0\\\\\n",
       "\t marshmello      &   2431732 & 20 Most Popular & 0 & 0 & 0 & 0\\\\\n",
       "\t Eminem          &  22676979 & 20 Most Popular & 0 & 0 & 0 & 0\\\\\n",
       "\t edsheeran       &  17615939 & 20 Most Popular & 0 & 0 & 0 & 0\\\\\n",
       "\t taylorswift13   &  90368646 & 20 Most Popular & 0 & 0 & 0 & 0\\\\\n",
       "\t billieeilish    &   6820950 & 20 Most Popular & 0 & 0 & 0 & 0\\\\\n",
       "\t katyperry       & 108881521 & 20 Most Popular & 0 & 0 & 0 & 0\\\\\n",
       "\t IAmAlanWalker   &    843590 & 20 Most Popular & 0 & 0 & 0 & 0\\\\\n",
       "\t sanbenito       &   4105211 & 20 Most Popular & 0 & 0 & 0 & 0\\\\\n",
       "\t rihanna         & 106804391 & 20 Most Popular & 0 & 0 & 0 & 0\\\\\n",
       "\t onedirection    &  31167620 & 20 Most Popular & 0 & 0 & 0 & 0\\\\\n",
       "\t xxxtentacion    &   2126535 & 20 Most Popular & 0 & 0 & 0 & 0\\\\\n",
       "\t daddy\\_yankee    &  15463023 & 20 Most Popular & 0 & 0 & 0 & 0\\\\\n",
       "\t maroon5         &  14224462 & 20 Most Popular & 0 & 0 & 0 & 0\\\\\n",
       "\t shakira         &  53076315 & 20 Most Popular & 0 & 0 & 0 & 0\\\\\n",
       "\t ozuna           &   2044525 & 20 Most Popular & 0 & 0 & 0 & 0\\\\\n",
       "\t BrunoMars       &  43291133 & 20 Most Popular & 0 & 0 & 0 & 0\\\\\n",
       "\t selenagomez     &  65929166 & 20 Most Popular & 0 & 0 & 0 & 0\\\\\n",
       "\t FKAtwigs        &    469259 & 20 Less Popular & 0 & 0 & 0 & 0\\\\\n",
       "\t andygrammer     &    148050 & 20 Less Popular & 0 & 0 & 0 & 0\\\\\n",
       "\t c\\_woodzofficial &    365232 & 20 Less Popular & 0 & 0 & 0 & 0\\\\\n",
       "\t beforeyouexit   &    208746 & 20 Less Popular & 0 & 0 & 0 & 0\\\\\n",
       "\t rrr001222       &    118978 & 20 Less Popular & 0 & 0 & 0 & 0\\\\\n",
       "\t CAVETOWN        &    308193 & 20 Less Popular & 0 & 0 & 0 & 0\\\\\n",
       "\t clairo          &    517917 & 20 Less Popular & 0 & 0 & 0 & 0\\\\\n",
       "\t oneruel         &    198491 & 20 Less Popular & 0 & 0 & 0 & 0\\\\\n",
       "\t Olivertree      &    255125 & 20 Less Popular & 0 & 0 & 0 & 0\\\\\n",
       "\t TessaViolet     &    190621 & 20 Less Popular & 0 & 0 & 0 & 0\\\\\n",
       "\t alinabaraz      &    163643 & 20 Less Popular & 0 & 0 & 0 & 0\\\\\n",
       "\t CigsAfterSexx   &    361809 & 20 Less Popular & 0 & 0 & 0 & 0\\\\\n",
       "\t KygoMusic       &    475969 & 20 Less Popular & 0 & 0 & 0 & 0\\\\\n",
       "\t ninanesbitt     &    180735 & 20 Less Popular & 0 & 0 & 0 & 0\\\\\n",
       "\t cleanbandit     &    410495 & 20 Less Popular & 0 & 0 & 0 & 0\\\\\n",
       "\t ChaseAtlantic   &    200576 & 20 Less Popular & 0 & 0 & 0 & 0\\\\\n",
       "\t tatemcrae       &    104488 & 20 Less Popular & 0 & 0 & 0 & 0\\\\\n",
       "\t hellohonne      &    199058 & 20 Less Popular & 0 & 0 & 0 & 0\\\\\n",
       "\t JorjaSmith      &    427003 & 20 Less Popular & 0 & 0 & 0 & 0\\\\\n",
       "\t kimpetras       &    212594 & 20 Less Popular & 0 & 0 & 0 & 0\\\\\n",
       "\\end{tabular}\n"
      ],
      "text/markdown": [
       "\n",
       "A data.frame: 40 × 7\n",
       "\n",
       "| screen_name &lt;fct&gt; | followers_count &lt;int&gt; | group &lt;chr&gt; | average_like &lt;dbl&gt; | average_comment &lt;dbl&gt; | average_retweet &lt;dbl&gt; | average_quote &lt;dbl&gt; |\n",
       "|---|---|---|---|---|---|---|\n",
       "| BLACKPINK       |   6531762 | 20 Most Popular | 0 | 0 | 0 | 0 |\n",
       "| justinbieber    | 114200324 | 20 Most Popular | 0 | 0 | 0 | 0 |\n",
       "| BTS_twt         |  46354472 | 20 Most Popular | 0 | 0 | 0 | 0 |\n",
       "| marshmello      |   2431732 | 20 Most Popular | 0 | 0 | 0 | 0 |\n",
       "| Eminem          |  22676979 | 20 Most Popular | 0 | 0 | 0 | 0 |\n",
       "| edsheeran       |  17615939 | 20 Most Popular | 0 | 0 | 0 | 0 |\n",
       "| taylorswift13   |  90368646 | 20 Most Popular | 0 | 0 | 0 | 0 |\n",
       "| billieeilish    |   6820950 | 20 Most Popular | 0 | 0 | 0 | 0 |\n",
       "| katyperry       | 108881521 | 20 Most Popular | 0 | 0 | 0 | 0 |\n",
       "| IAmAlanWalker   |    843590 | 20 Most Popular | 0 | 0 | 0 | 0 |\n",
       "| sanbenito       |   4105211 | 20 Most Popular | 0 | 0 | 0 | 0 |\n",
       "| rihanna         | 106804391 | 20 Most Popular | 0 | 0 | 0 | 0 |\n",
       "| onedirection    |  31167620 | 20 Most Popular | 0 | 0 | 0 | 0 |\n",
       "| xxxtentacion    |   2126535 | 20 Most Popular | 0 | 0 | 0 | 0 |\n",
       "| daddy_yankee    |  15463023 | 20 Most Popular | 0 | 0 | 0 | 0 |\n",
       "| maroon5         |  14224462 | 20 Most Popular | 0 | 0 | 0 | 0 |\n",
       "| shakira         |  53076315 | 20 Most Popular | 0 | 0 | 0 | 0 |\n",
       "| ozuna           |   2044525 | 20 Most Popular | 0 | 0 | 0 | 0 |\n",
       "| BrunoMars       |  43291133 | 20 Most Popular | 0 | 0 | 0 | 0 |\n",
       "| selenagomez     |  65929166 | 20 Most Popular | 0 | 0 | 0 | 0 |\n",
       "| FKAtwigs        |    469259 | 20 Less Popular | 0 | 0 | 0 | 0 |\n",
       "| andygrammer     |    148050 | 20 Less Popular | 0 | 0 | 0 | 0 |\n",
       "| c_woodzofficial |    365232 | 20 Less Popular | 0 | 0 | 0 | 0 |\n",
       "| beforeyouexit   |    208746 | 20 Less Popular | 0 | 0 | 0 | 0 |\n",
       "| rrr001222       |    118978 | 20 Less Popular | 0 | 0 | 0 | 0 |\n",
       "| CAVETOWN        |    308193 | 20 Less Popular | 0 | 0 | 0 | 0 |\n",
       "| clairo          |    517917 | 20 Less Popular | 0 | 0 | 0 | 0 |\n",
       "| oneruel         |    198491 | 20 Less Popular | 0 | 0 | 0 | 0 |\n",
       "| Olivertree      |    255125 | 20 Less Popular | 0 | 0 | 0 | 0 |\n",
       "| TessaViolet     |    190621 | 20 Less Popular | 0 | 0 | 0 | 0 |\n",
       "| alinabaraz      |    163643 | 20 Less Popular | 0 | 0 | 0 | 0 |\n",
       "| CigsAfterSexx   |    361809 | 20 Less Popular | 0 | 0 | 0 | 0 |\n",
       "| KygoMusic       |    475969 | 20 Less Popular | 0 | 0 | 0 | 0 |\n",
       "| ninanesbitt     |    180735 | 20 Less Popular | 0 | 0 | 0 | 0 |\n",
       "| cleanbandit     |    410495 | 20 Less Popular | 0 | 0 | 0 | 0 |\n",
       "| ChaseAtlantic   |    200576 | 20 Less Popular | 0 | 0 | 0 | 0 |\n",
       "| tatemcrae       |    104488 | 20 Less Popular | 0 | 0 | 0 | 0 |\n",
       "| hellohonne      |    199058 | 20 Less Popular | 0 | 0 | 0 | 0 |\n",
       "| JorjaSmith      |    427003 | 20 Less Popular | 0 | 0 | 0 | 0 |\n",
       "| kimpetras       |    212594 | 20 Less Popular | 0 | 0 | 0 | 0 |\n",
       "\n"
      ],
      "text/plain": [
       "   screen_name     followers_count group           average_like average_comment\n",
       "1  BLACKPINK         6531762       20 Most Popular 0            0              \n",
       "2  justinbieber    114200324       20 Most Popular 0            0              \n",
       "3  BTS_twt          46354472       20 Most Popular 0            0              \n",
       "4  marshmello        2431732       20 Most Popular 0            0              \n",
       "5  Eminem           22676979       20 Most Popular 0            0              \n",
       "6  edsheeran        17615939       20 Most Popular 0            0              \n",
       "7  taylorswift13    90368646       20 Most Popular 0            0              \n",
       "8  billieeilish      6820950       20 Most Popular 0            0              \n",
       "9  katyperry       108881521       20 Most Popular 0            0              \n",
       "10 IAmAlanWalker      843590       20 Most Popular 0            0              \n",
       "11 sanbenito         4105211       20 Most Popular 0            0              \n",
       "12 rihanna         106804391       20 Most Popular 0            0              \n",
       "13 onedirection     31167620       20 Most Popular 0            0              \n",
       "14 xxxtentacion      2126535       20 Most Popular 0            0              \n",
       "15 daddy_yankee     15463023       20 Most Popular 0            0              \n",
       "16 maroon5          14224462       20 Most Popular 0            0              \n",
       "17 shakira          53076315       20 Most Popular 0            0              \n",
       "18 ozuna             2044525       20 Most Popular 0            0              \n",
       "19 BrunoMars        43291133       20 Most Popular 0            0              \n",
       "20 selenagomez      65929166       20 Most Popular 0            0              \n",
       "21 FKAtwigs           469259       20 Less Popular 0            0              \n",
       "22 andygrammer        148050       20 Less Popular 0            0              \n",
       "23 c_woodzofficial    365232       20 Less Popular 0            0              \n",
       "24 beforeyouexit      208746       20 Less Popular 0            0              \n",
       "25 rrr001222          118978       20 Less Popular 0            0              \n",
       "26 CAVETOWN           308193       20 Less Popular 0            0              \n",
       "27 clairo             517917       20 Less Popular 0            0              \n",
       "28 oneruel            198491       20 Less Popular 0            0              \n",
       "29 Olivertree         255125       20 Less Popular 0            0              \n",
       "30 TessaViolet        190621       20 Less Popular 0            0              \n",
       "31 alinabaraz         163643       20 Less Popular 0            0              \n",
       "32 CigsAfterSexx      361809       20 Less Popular 0            0              \n",
       "33 KygoMusic          475969       20 Less Popular 0            0              \n",
       "34 ninanesbitt        180735       20 Less Popular 0            0              \n",
       "35 cleanbandit        410495       20 Less Popular 0            0              \n",
       "36 ChaseAtlantic      200576       20 Less Popular 0            0              \n",
       "37 tatemcrae          104488       20 Less Popular 0            0              \n",
       "38 hellohonne         199058       20 Less Popular 0            0              \n",
       "39 JorjaSmith         427003       20 Less Popular 0            0              \n",
       "40 kimpetras          212594       20 Less Popular 0            0              \n",
       "   average_retweet average_quote\n",
       "1  0               0            \n",
       "2  0               0            \n",
       "3  0               0            \n",
       "4  0               0            \n",
       "5  0               0            \n",
       "6  0               0            \n",
       "7  0               0            \n",
       "8  0               0            \n",
       "9  0               0            \n",
       "10 0               0            \n",
       "11 0               0            \n",
       "12 0               0            \n",
       "13 0               0            \n",
       "14 0               0            \n",
       "15 0               0            \n",
       "16 0               0            \n",
       "17 0               0            \n",
       "18 0               0            \n",
       "19 0               0            \n",
       "20 0               0            \n",
       "21 0               0            \n",
       "22 0               0            \n",
       "23 0               0            \n",
       "24 0               0            \n",
       "25 0               0            \n",
       "26 0               0            \n",
       "27 0               0            \n",
       "28 0               0            \n",
       "29 0               0            \n",
       "30 0               0            \n",
       "31 0               0            \n",
       "32 0               0            \n",
       "33 0               0            \n",
       "34 0               0            \n",
       "35 0               0            \n",
       "36 0               0            \n",
       "37 0               0            \n",
       "38 0               0            \n",
       "39 0               0            \n",
       "40 0               0            "
      ]
     },
     "metadata": {},
     "output_type": "display_data"
    },
    {
     "data": {
      "text/html": [
       "<style>\n",
       ".list-inline {list-style: none; margin:0; padding: 0}\n",
       ".list-inline>li {display: inline-block}\n",
       ".list-inline>li:not(:last-child)::after {content: \"\\00b7\"; padding: 0 .5ex}\n",
       "</style>\n",
       "<ol class=list-inline><li>'screen_name'</li><li>'followers_count'</li><li>'group'</li><li>'average_like'</li><li>'average_comment'</li><li>'average_retweet'</li><li>'average_quote'</li></ol>\n"
      ],
      "text/latex": [
       "\\begin{enumerate*}\n",
       "\\item 'screen\\_name'\n",
       "\\item 'followers\\_count'\n",
       "\\item 'group'\n",
       "\\item 'average\\_like'\n",
       "\\item 'average\\_comment'\n",
       "\\item 'average\\_retweet'\n",
       "\\item 'average\\_quote'\n",
       "\\end{enumerate*}\n"
      ],
      "text/markdown": [
       "1. 'screen_name'\n",
       "2. 'followers_count'\n",
       "3. 'group'\n",
       "4. 'average_like'\n",
       "5. 'average_comment'\n",
       "6. 'average_retweet'\n",
       "7. 'average_quote'\n",
       "\n",
       "\n"
      ],
      "text/plain": [
       "[1] \"screen_name\"     \"followers_count\" \"group\"           \"average_like\"   \n",
       "[5] \"average_comment\" \"average_retweet\" \"average_quote\"  "
      ]
     },
     "metadata": {},
     "output_type": "display_data"
    },
    {
     "data": {
      "text/html": [
       "<style>\n",
       ".list-inline {list-style: none; margin:0; padding: 0}\n",
       ".list-inline>li {display: inline-block}\n",
       ".list-inline>li:not(:last-child)::after {content: \"\\00b7\"; padding: 0 .5ex}\n",
       "</style>\n",
       "<ol class=list-inline><li>'1'</li><li>'2'</li><li>'3'</li><li>'4'</li><li>'5'</li><li>'6'</li><li>'7'</li><li>'8'</li><li>'9'</li><li>'10'</li><li>'11'</li><li>'12'</li><li>'13'</li><li>'14'</li><li>'15'</li><li>'16'</li><li>'17'</li><li>'18'</li><li>'19'</li><li>'20'</li><li>'21'</li><li>'22'</li><li>'23'</li><li>'24'</li><li>'25'</li><li>'26'</li><li>'27'</li><li>'28'</li><li>'29'</li><li>'30'</li><li>'31'</li><li>'32'</li><li>'33'</li><li>'34'</li><li>'35'</li><li>'36'</li><li>'37'</li><li>'38'</li><li>'39'</li><li>'40'</li></ol>\n"
      ],
      "text/latex": [
       "\\begin{enumerate*}\n",
       "\\item '1'\n",
       "\\item '2'\n",
       "\\item '3'\n",
       "\\item '4'\n",
       "\\item '5'\n",
       "\\item '6'\n",
       "\\item '7'\n",
       "\\item '8'\n",
       "\\item '9'\n",
       "\\item '10'\n",
       "\\item '11'\n",
       "\\item '12'\n",
       "\\item '13'\n",
       "\\item '14'\n",
       "\\item '15'\n",
       "\\item '16'\n",
       "\\item '17'\n",
       "\\item '18'\n",
       "\\item '19'\n",
       "\\item '20'\n",
       "\\item '21'\n",
       "\\item '22'\n",
       "\\item '23'\n",
       "\\item '24'\n",
       "\\item '25'\n",
       "\\item '26'\n",
       "\\item '27'\n",
       "\\item '28'\n",
       "\\item '29'\n",
       "\\item '30'\n",
       "\\item '31'\n",
       "\\item '32'\n",
       "\\item '33'\n",
       "\\item '34'\n",
       "\\item '35'\n",
       "\\item '36'\n",
       "\\item '37'\n",
       "\\item '38'\n",
       "\\item '39'\n",
       "\\item '40'\n",
       "\\end{enumerate*}\n"
      ],
      "text/markdown": [
       "1. '1'\n",
       "2. '2'\n",
       "3. '3'\n",
       "4. '4'\n",
       "5. '5'\n",
       "6. '6'\n",
       "7. '7'\n",
       "8. '8'\n",
       "9. '9'\n",
       "10. '10'\n",
       "11. '11'\n",
       "12. '12'\n",
       "13. '13'\n",
       "14. '14'\n",
       "15. '15'\n",
       "16. '16'\n",
       "17. '17'\n",
       "18. '18'\n",
       "19. '19'\n",
       "20. '20'\n",
       "21. '21'\n",
       "22. '22'\n",
       "23. '23'\n",
       "24. '24'\n",
       "25. '25'\n",
       "26. '26'\n",
       "27. '27'\n",
       "28. '28'\n",
       "29. '29'\n",
       "30. '30'\n",
       "31. '31'\n",
       "32. '32'\n",
       "33. '33'\n",
       "34. '34'\n",
       "35. '35'\n",
       "36. '36'\n",
       "37. '37'\n",
       "38. '38'\n",
       "39. '39'\n",
       "40. '40'\n",
       "\n",
       "\n"
      ],
      "text/plain": [
       " [1] \"1\"  \"2\"  \"3\"  \"4\"  \"5\"  \"6\"  \"7\"  \"8\"  \"9\"  \"10\" \"11\" \"12\" \"13\" \"14\" \"15\"\n",
       "[16] \"16\" \"17\" \"18\" \"19\" \"20\" \"21\" \"22\" \"23\" \"24\" \"25\" \"26\" \"27\" \"28\" \"29\" \"30\"\n",
       "[31] \"31\" \"32\" \"33\" \"34\" \"35\" \"36\" \"37\" \"38\" \"39\" \"40\""
      ]
     },
     "metadata": {},
     "output_type": "display_data"
    },
    {
     "name": "stdout",
     "output_type": "stream",
     "text": [
      "Rows: 40\n",
      "Columns: 7\n",
      "$ screen_name     \u001b[3m\u001b[90m<fct>\u001b[39m\u001b[23m BLACKPINK, justinbieber, BTS_twt, marshmello, Eminem, ~\n",
      "$ followers_count \u001b[3m\u001b[90m<int>\u001b[39m\u001b[23m 6531762, 114200324, 46354472, 2431732, 22676979, 17615~\n",
      "$ group           \u001b[3m\u001b[90m<chr>\u001b[39m\u001b[23m \"20 Most Popular\", \"20 Most Popular\", \"20 Most Popular~\n",
      "$ average_like    \u001b[3m\u001b[90m<dbl>\u001b[39m\u001b[23m 0, 0, 0, 0, 0, 0, 0, 0, 0, 0, 0, 0, 0, 0, 0, 0, 0, 0, ~\n",
      "$ average_comment \u001b[3m\u001b[90m<dbl>\u001b[39m\u001b[23m 0, 0, 0, 0, 0, 0, 0, 0, 0, 0, 0, 0, 0, 0, 0, 0, 0, 0, ~\n",
      "$ average_retweet \u001b[3m\u001b[90m<dbl>\u001b[39m\u001b[23m 0, 0, 0, 0, 0, 0, 0, 0, 0, 0, 0, 0, 0, 0, 0, 0, 0, 0, ~\n",
      "$ average_quote   \u001b[3m\u001b[90m<dbl>\u001b[39m\u001b[23m 0, 0, 0, 0, 0, 0, 0, 0, 0, 0, 0, 0, 0, 0, 0, 0, 0, 0, ~\n"
     ]
    }
   ],
   "source": [
    "follower_matrix <- rbind(follower_matrix1, follower_matrix2)\n",
    "follower_matrix[\"average_like\"] = 0\n",
    "follower_matrix[\"average_comment\"] = 0\n",
    "follower_matrix[\"average_retweet\"] = 0\n",
    "follower_matrix[\"average_quote\"] = 0\n",
    "follower_matrix\n",
    "colnames(follower_matrix)\n",
    "rownames(follower_matrix)\n",
    "glimpse(follower_matrix)"
   ]
  },
  {
   "cell_type": "markdown",
   "metadata": {},
   "source": [
    "Count the average of like/comment/quote/retweet number"
   ]
  },
  {
   "cell_type": "code",
   "execution_count": 9,
   "metadata": {
    "vscode": {
     "languageId": "r"
    }
   },
   "outputs": [
    {
     "data": {
      "text/html": [
       "<table class=\"dataframe\">\n",
       "<caption>A data.frame: 40 × 7</caption>\n",
       "<thead>\n",
       "\t<tr><th scope=col>screen_name</th><th scope=col>followers_count</th><th scope=col>group</th><th scope=col>average_like</th><th scope=col>average_comment</th><th scope=col>average_retweet</th><th scope=col>average_quote</th></tr>\n",
       "\t<tr><th scope=col>&lt;fct&gt;</th><th scope=col>&lt;int&gt;</th><th scope=col>&lt;fct&gt;</th><th scope=col>&lt;dbl&gt;</th><th scope=col>&lt;dbl&gt;</th><th scope=col>&lt;dbl&gt;</th><th scope=col>&lt;dbl&gt;</th></tr>\n",
       "</thead>\n",
       "<tbody>\n",
       "\t<tr><td>BLACKPINK      </td><td>  6531762</td><td>20 Most Popular</td><td>1.399773e+05</td><td> 3372.647059</td><td> 33051.18000</td><td> 4113.058824</td></tr>\n",
       "\t<tr><td>justinbieber   </td><td>114200324</td><td>20 Most Popular</td><td>3.836398e+04</td><td> 1055.142857</td><td>  5371.14000</td><td>  633.000000</td></tr>\n",
       "\t<tr><td>BTS_twt        </td><td> 46354472</td><td>20 Most Popular</td><td>1.884529e+06</td><td>60587.268293</td><td>490850.55102</td><td>45099.731707</td></tr>\n",
       "\t<tr><td>marshmello     </td><td>  2431732</td><td>20 Most Popular</td><td>2.840907e+03</td><td>   83.837209</td><td>   268.10000</td><td>   98.382353</td></tr>\n",
       "\t<tr><td>Eminem         </td><td> 22676979</td><td>20 Most Popular</td><td>3.789943e+04</td><td> 1076.972973</td><td>  3884.88000</td><td>  763.621622</td></tr>\n",
       "\t<tr><td>edsheeran      </td><td> 17615939</td><td>20 Most Popular</td><td>3.328020e+03</td><td>   60.163265</td><td>   310.56000</td><td>   61.530612</td></tr>\n",
       "\t<tr><td>taylorswift13  </td><td> 90368646</td><td>20 Most Popular</td><td>3.952794e+05</td><td>13947.612245</td><td> 64436.86000</td><td>22977.061224</td></tr>\n",
       "\t<tr><td>billieeilish   </td><td>  6820950</td><td>20 Most Popular</td><td>1.894619e+04</td><td>  437.187500</td><td>  1462.82000</td><td>  421.687500</td></tr>\n",
       "\t<tr><td>katyperry      </td><td>108881521</td><td>20 Most Popular</td><td>9.584191e+03</td><td>  403.446809</td><td>   992.92000</td><td>  214.574468</td></tr>\n",
       "\t<tr><td>IAmAlanWalker  </td><td>   843590</td><td>20 Most Popular</td><td>1.808476e+03</td><td>   72.833333</td><td>   249.64000</td><td>   26.605263</td></tr>\n",
       "\t<tr><td>sanbenito      </td><td>  4105211</td><td>20 Most Popular</td><td>1.658464e+05</td><td> 1669.280000</td><td> 14980.92000</td><td> 3175.360000</td></tr>\n",
       "\t<tr><td>rihanna        </td><td>106804391</td><td>20 Most Popular</td><td>1.929091e+05</td><td> 2202.180000</td><td> 18475.20000</td><td> 2762.080000</td></tr>\n",
       "\t<tr><td>onedirection   </td><td> 31167620</td><td>20 Most Popular</td><td>3.937310e+05</td><td>15398.864865</td><td>146214.18000</td><td>16950.756757</td></tr>\n",
       "\t<tr><td>xxxtentacion   </td><td>  2126535</td><td>20 Most Popular</td><td>9.812856e+04</td><td> 1858.687500</td><td> 21865.48980</td><td> 1959.156250</td></tr>\n",
       "\t<tr><td>daddy_yankee   </td><td> 15463023</td><td>20 Most Popular</td><td>7.177795e+03</td><td>  518.363636</td><td>   611.58000</td><td>  176.000000</td></tr>\n",
       "\t<tr><td>maroon5        </td><td> 14224462</td><td>20 Most Popular</td><td>9.161429e+02</td><td>   54.025000</td><td>   111.18000</td><td>   47.205128</td></tr>\n",
       "\t<tr><td>shakira        </td><td> 53076315</td><td>20 Most Popular</td><td>3.489711e+04</td><td>  514.027778</td><td>  1111.58000</td><td>  217.888889</td></tr>\n",
       "\t<tr><td>ozuna          </td><td>  2044525</td><td>20 Most Popular</td><td>2.335167e+03</td><td>   74.500000</td><td>   202.93617</td><td>   39.636364</td></tr>\n",
       "\t<tr><td>BrunoMars      </td><td> 43291133</td><td>20 Most Popular</td><td>1.901540e+04</td><td>  469.187500</td><td>  2705.30000</td><td>  365.166667</td></tr>\n",
       "\t<tr><td>selenagomez    </td><td> 65929166</td><td>20 Most Popular</td><td>3.678120e+04</td><td>  822.160000</td><td>  3623.02000</td><td>  474.520000</td></tr>\n",
       "\t<tr><td>FKAtwigs       </td><td>   469259</td><td>20 Less Popular</td><td>2.948733e+03</td><td>   47.272727</td><td>   287.34000</td><td>  170.977273</td></tr>\n",
       "\t<tr><td>andygrammer    </td><td>   148050</td><td>20 Less Popular</td><td>6.134884e+01</td><td>    7.116279</td><td>     7.32000</td><td>    2.500000</td></tr>\n",
       "\t<tr><td>c_woodzofficial</td><td>   365232</td><td>20 Less Popular</td><td>4.343444e+03</td><td>   69.485714</td><td>  1494.18000</td><td>  178.388889</td></tr>\n",
       "\t<tr><td>beforeyouexit  </td><td>   208746</td><td>20 Less Popular</td><td>2.891875e+02</td><td>   29.586207</td><td>    58.00000</td><td>   22.444444</td></tr>\n",
       "\t<tr><td>rrr001222      </td><td>   118978</td><td>20 Less Popular</td><td>1.707600e+03</td><td>    5.071429</td><td>    77.10204</td><td>    4.733333</td></tr>\n",
       "\t<tr><td>CAVETOWN       </td><td>   308193</td><td>20 Less Popular</td><td>2.090395e+03</td><td>   47.465116</td><td>    99.66000</td><td>   45.363636</td></tr>\n",
       "\t<tr><td>clairo         </td><td>   517917</td><td>20 Less Popular</td><td>3.593029e+03</td><td>  221.323529</td><td>   239.76000</td><td>  110.970588</td></tr>\n",
       "\t<tr><td>oneruel        </td><td>   198491</td><td>20 Less Popular</td><td>1.799617e+03</td><td>  118.489362</td><td>   338.10000</td><td>   57.304348</td></tr>\n",
       "\t<tr><td>Olivertree     </td><td>   255125</td><td>20 Less Popular</td><td>1.519662e+04</td><td>  231.531915</td><td>  1520.28000</td><td>  208.847826</td></tr>\n",
       "\t<tr><td>TessaViolet    </td><td>   190621</td><td>20 Less Popular</td><td>3.925435e+02</td><td>   26.450000</td><td>   561.60000</td><td>   12.388889</td></tr>\n",
       "\t<tr><td>alinabaraz     </td><td>   163643</td><td>20 Less Popular</td><td>1.464369e+04</td><td>  205.422222</td><td>  7675.91837</td><td>  540.088889</td></tr>\n",
       "\t<tr><td>CigsAfterSexx  </td><td>   361809</td><td>20 Less Popular</td><td>1.481568e+04</td><td>   89.340909</td><td>  6190.32000</td><td>  330.222222</td></tr>\n",
       "\t<tr><td>KygoMusic      </td><td>   475969</td><td>20 Less Popular</td><td>8.720000e+02</td><td>   46.370370</td><td>    99.24000</td><td>   27.500000</td></tr>\n",
       "\t<tr><td>ninanesbitt    </td><td>   180735</td><td>20 Less Popular</td><td>1.658444e+02</td><td>   14.568182</td><td>    16.24000</td><td>    6.896552</td></tr>\n",
       "\t<tr><td>cleanbandit    </td><td>   410495</td><td>20 Less Popular</td><td>2.077059e+02</td><td>    6.666667</td><td>   362.46000</td><td>    1.823529</td></tr>\n",
       "\t<tr><td>ChaseAtlantic  </td><td>   200576</td><td>20 Less Popular</td><td>3.194224e+03</td><td>  171.458333</td><td>   398.54000</td><td>  153.325581</td></tr>\n",
       "\t<tr><td>tatemcrae      </td><td>   104488</td><td>20 Less Popular</td><td>1.412056e+03</td><td>   91.111111</td><td>    97.90000</td><td>   14.242424</td></tr>\n",
       "\t<tr><td>hellohonne     </td><td>   199058</td><td>20 Less Popular</td><td>5.871250e+02</td><td>   21.225000</td><td>    84.92000</td><td>   38.761905</td></tr>\n",
       "\t<tr><td>JorjaSmith     </td><td>   427003</td><td>20 Less Popular</td><td>9.653571e+02</td><td>   54.071429</td><td>   112.10000</td><td>  105.560976</td></tr>\n",
       "\t<tr><td>kimpetras      </td><td>   212594</td><td>20 Less Popular</td><td>6.322444e+02</td><td>   26.675000</td><td>   769.22000</td><td>   12.909091</td></tr>\n",
       "</tbody>\n",
       "</table>\n"
      ],
      "text/latex": [
       "A data.frame: 40 × 7\n",
       "\\begin{tabular}{lllllll}\n",
       " screen\\_name & followers\\_count & group & average\\_like & average\\_comment & average\\_retweet & average\\_quote\\\\\n",
       " <fct> & <int> & <fct> & <dbl> & <dbl> & <dbl> & <dbl>\\\\\n",
       "\\hline\n",
       "\t BLACKPINK       &   6531762 & 20 Most Popular & 1.399773e+05 &  3372.647059 &  33051.18000 &  4113.058824\\\\\n",
       "\t justinbieber    & 114200324 & 20 Most Popular & 3.836398e+04 &  1055.142857 &   5371.14000 &   633.000000\\\\\n",
       "\t BTS\\_twt         &  46354472 & 20 Most Popular & 1.884529e+06 & 60587.268293 & 490850.55102 & 45099.731707\\\\\n",
       "\t marshmello      &   2431732 & 20 Most Popular & 2.840907e+03 &    83.837209 &    268.10000 &    98.382353\\\\\n",
       "\t Eminem          &  22676979 & 20 Most Popular & 3.789943e+04 &  1076.972973 &   3884.88000 &   763.621622\\\\\n",
       "\t edsheeran       &  17615939 & 20 Most Popular & 3.328020e+03 &    60.163265 &    310.56000 &    61.530612\\\\\n",
       "\t taylorswift13   &  90368646 & 20 Most Popular & 3.952794e+05 & 13947.612245 &  64436.86000 & 22977.061224\\\\\n",
       "\t billieeilish    &   6820950 & 20 Most Popular & 1.894619e+04 &   437.187500 &   1462.82000 &   421.687500\\\\\n",
       "\t katyperry       & 108881521 & 20 Most Popular & 9.584191e+03 &   403.446809 &    992.92000 &   214.574468\\\\\n",
       "\t IAmAlanWalker   &    843590 & 20 Most Popular & 1.808476e+03 &    72.833333 &    249.64000 &    26.605263\\\\\n",
       "\t sanbenito       &   4105211 & 20 Most Popular & 1.658464e+05 &  1669.280000 &  14980.92000 &  3175.360000\\\\\n",
       "\t rihanna         & 106804391 & 20 Most Popular & 1.929091e+05 &  2202.180000 &  18475.20000 &  2762.080000\\\\\n",
       "\t onedirection    &  31167620 & 20 Most Popular & 3.937310e+05 & 15398.864865 & 146214.18000 & 16950.756757\\\\\n",
       "\t xxxtentacion    &   2126535 & 20 Most Popular & 9.812856e+04 &  1858.687500 &  21865.48980 &  1959.156250\\\\\n",
       "\t daddy\\_yankee    &  15463023 & 20 Most Popular & 7.177795e+03 &   518.363636 &    611.58000 &   176.000000\\\\\n",
       "\t maroon5         &  14224462 & 20 Most Popular & 9.161429e+02 &    54.025000 &    111.18000 &    47.205128\\\\\n",
       "\t shakira         &  53076315 & 20 Most Popular & 3.489711e+04 &   514.027778 &   1111.58000 &   217.888889\\\\\n",
       "\t ozuna           &   2044525 & 20 Most Popular & 2.335167e+03 &    74.500000 &    202.93617 &    39.636364\\\\\n",
       "\t BrunoMars       &  43291133 & 20 Most Popular & 1.901540e+04 &   469.187500 &   2705.30000 &   365.166667\\\\\n",
       "\t selenagomez     &  65929166 & 20 Most Popular & 3.678120e+04 &   822.160000 &   3623.02000 &   474.520000\\\\\n",
       "\t FKAtwigs        &    469259 & 20 Less Popular & 2.948733e+03 &    47.272727 &    287.34000 &   170.977273\\\\\n",
       "\t andygrammer     &    148050 & 20 Less Popular & 6.134884e+01 &     7.116279 &      7.32000 &     2.500000\\\\\n",
       "\t c\\_woodzofficial &    365232 & 20 Less Popular & 4.343444e+03 &    69.485714 &   1494.18000 &   178.388889\\\\\n",
       "\t beforeyouexit   &    208746 & 20 Less Popular & 2.891875e+02 &    29.586207 &     58.00000 &    22.444444\\\\\n",
       "\t rrr001222       &    118978 & 20 Less Popular & 1.707600e+03 &     5.071429 &     77.10204 &     4.733333\\\\\n",
       "\t CAVETOWN        &    308193 & 20 Less Popular & 2.090395e+03 &    47.465116 &     99.66000 &    45.363636\\\\\n",
       "\t clairo          &    517917 & 20 Less Popular & 3.593029e+03 &   221.323529 &    239.76000 &   110.970588\\\\\n",
       "\t oneruel         &    198491 & 20 Less Popular & 1.799617e+03 &   118.489362 &    338.10000 &    57.304348\\\\\n",
       "\t Olivertree      &    255125 & 20 Less Popular & 1.519662e+04 &   231.531915 &   1520.28000 &   208.847826\\\\\n",
       "\t TessaViolet     &    190621 & 20 Less Popular & 3.925435e+02 &    26.450000 &    561.60000 &    12.388889\\\\\n",
       "\t alinabaraz      &    163643 & 20 Less Popular & 1.464369e+04 &   205.422222 &   7675.91837 &   540.088889\\\\\n",
       "\t CigsAfterSexx   &    361809 & 20 Less Popular & 1.481568e+04 &    89.340909 &   6190.32000 &   330.222222\\\\\n",
       "\t KygoMusic       &    475969 & 20 Less Popular & 8.720000e+02 &    46.370370 &     99.24000 &    27.500000\\\\\n",
       "\t ninanesbitt     &    180735 & 20 Less Popular & 1.658444e+02 &    14.568182 &     16.24000 &     6.896552\\\\\n",
       "\t cleanbandit     &    410495 & 20 Less Popular & 2.077059e+02 &     6.666667 &    362.46000 &     1.823529\\\\\n",
       "\t ChaseAtlantic   &    200576 & 20 Less Popular & 3.194224e+03 &   171.458333 &    398.54000 &   153.325581\\\\\n",
       "\t tatemcrae       &    104488 & 20 Less Popular & 1.412056e+03 &    91.111111 &     97.90000 &    14.242424\\\\\n",
       "\t hellohonne      &    199058 & 20 Less Popular & 5.871250e+02 &    21.225000 &     84.92000 &    38.761905\\\\\n",
       "\t JorjaSmith      &    427003 & 20 Less Popular & 9.653571e+02 &    54.071429 &    112.10000 &   105.560976\\\\\n",
       "\t kimpetras       &    212594 & 20 Less Popular & 6.322444e+02 &    26.675000 &    769.22000 &    12.909091\\\\\n",
       "\\end{tabular}\n"
      ],
      "text/markdown": [
       "\n",
       "A data.frame: 40 × 7\n",
       "\n",
       "| screen_name &lt;fct&gt; | followers_count &lt;int&gt; | group &lt;fct&gt; | average_like &lt;dbl&gt; | average_comment &lt;dbl&gt; | average_retweet &lt;dbl&gt; | average_quote &lt;dbl&gt; |\n",
       "|---|---|---|---|---|---|---|\n",
       "| BLACKPINK       |   6531762 | 20 Most Popular | 1.399773e+05 |  3372.647059 |  33051.18000 |  4113.058824 |\n",
       "| justinbieber    | 114200324 | 20 Most Popular | 3.836398e+04 |  1055.142857 |   5371.14000 |   633.000000 |\n",
       "| BTS_twt         |  46354472 | 20 Most Popular | 1.884529e+06 | 60587.268293 | 490850.55102 | 45099.731707 |\n",
       "| marshmello      |   2431732 | 20 Most Popular | 2.840907e+03 |    83.837209 |    268.10000 |    98.382353 |\n",
       "| Eminem          |  22676979 | 20 Most Popular | 3.789943e+04 |  1076.972973 |   3884.88000 |   763.621622 |\n",
       "| edsheeran       |  17615939 | 20 Most Popular | 3.328020e+03 |    60.163265 |    310.56000 |    61.530612 |\n",
       "| taylorswift13   |  90368646 | 20 Most Popular | 3.952794e+05 | 13947.612245 |  64436.86000 | 22977.061224 |\n",
       "| billieeilish    |   6820950 | 20 Most Popular | 1.894619e+04 |   437.187500 |   1462.82000 |   421.687500 |\n",
       "| katyperry       | 108881521 | 20 Most Popular | 9.584191e+03 |   403.446809 |    992.92000 |   214.574468 |\n",
       "| IAmAlanWalker   |    843590 | 20 Most Popular | 1.808476e+03 |    72.833333 |    249.64000 |    26.605263 |\n",
       "| sanbenito       |   4105211 | 20 Most Popular | 1.658464e+05 |  1669.280000 |  14980.92000 |  3175.360000 |\n",
       "| rihanna         | 106804391 | 20 Most Popular | 1.929091e+05 |  2202.180000 |  18475.20000 |  2762.080000 |\n",
       "| onedirection    |  31167620 | 20 Most Popular | 3.937310e+05 | 15398.864865 | 146214.18000 | 16950.756757 |\n",
       "| xxxtentacion    |   2126535 | 20 Most Popular | 9.812856e+04 |  1858.687500 |  21865.48980 |  1959.156250 |\n",
       "| daddy_yankee    |  15463023 | 20 Most Popular | 7.177795e+03 |   518.363636 |    611.58000 |   176.000000 |\n",
       "| maroon5         |  14224462 | 20 Most Popular | 9.161429e+02 |    54.025000 |    111.18000 |    47.205128 |\n",
       "| shakira         |  53076315 | 20 Most Popular | 3.489711e+04 |   514.027778 |   1111.58000 |   217.888889 |\n",
       "| ozuna           |   2044525 | 20 Most Popular | 2.335167e+03 |    74.500000 |    202.93617 |    39.636364 |\n",
       "| BrunoMars       |  43291133 | 20 Most Popular | 1.901540e+04 |   469.187500 |   2705.30000 |   365.166667 |\n",
       "| selenagomez     |  65929166 | 20 Most Popular | 3.678120e+04 |   822.160000 |   3623.02000 |   474.520000 |\n",
       "| FKAtwigs        |    469259 | 20 Less Popular | 2.948733e+03 |    47.272727 |    287.34000 |   170.977273 |\n",
       "| andygrammer     |    148050 | 20 Less Popular | 6.134884e+01 |     7.116279 |      7.32000 |     2.500000 |\n",
       "| c_woodzofficial |    365232 | 20 Less Popular | 4.343444e+03 |    69.485714 |   1494.18000 |   178.388889 |\n",
       "| beforeyouexit   |    208746 | 20 Less Popular | 2.891875e+02 |    29.586207 |     58.00000 |    22.444444 |\n",
       "| rrr001222       |    118978 | 20 Less Popular | 1.707600e+03 |     5.071429 |     77.10204 |     4.733333 |\n",
       "| CAVETOWN        |    308193 | 20 Less Popular | 2.090395e+03 |    47.465116 |     99.66000 |    45.363636 |\n",
       "| clairo          |    517917 | 20 Less Popular | 3.593029e+03 |   221.323529 |    239.76000 |   110.970588 |\n",
       "| oneruel         |    198491 | 20 Less Popular | 1.799617e+03 |   118.489362 |    338.10000 |    57.304348 |\n",
       "| Olivertree      |    255125 | 20 Less Popular | 1.519662e+04 |   231.531915 |   1520.28000 |   208.847826 |\n",
       "| TessaViolet     |    190621 | 20 Less Popular | 3.925435e+02 |    26.450000 |    561.60000 |    12.388889 |\n",
       "| alinabaraz      |    163643 | 20 Less Popular | 1.464369e+04 |   205.422222 |   7675.91837 |   540.088889 |\n",
       "| CigsAfterSexx   |    361809 | 20 Less Popular | 1.481568e+04 |    89.340909 |   6190.32000 |   330.222222 |\n",
       "| KygoMusic       |    475969 | 20 Less Popular | 8.720000e+02 |    46.370370 |     99.24000 |    27.500000 |\n",
       "| ninanesbitt     |    180735 | 20 Less Popular | 1.658444e+02 |    14.568182 |     16.24000 |     6.896552 |\n",
       "| cleanbandit     |    410495 | 20 Less Popular | 2.077059e+02 |     6.666667 |    362.46000 |     1.823529 |\n",
       "| ChaseAtlantic   |    200576 | 20 Less Popular | 3.194224e+03 |   171.458333 |    398.54000 |   153.325581 |\n",
       "| tatemcrae       |    104488 | 20 Less Popular | 1.412056e+03 |    91.111111 |     97.90000 |    14.242424 |\n",
       "| hellohonne      |    199058 | 20 Less Popular | 5.871250e+02 |    21.225000 |     84.92000 |    38.761905 |\n",
       "| JorjaSmith      |    427003 | 20 Less Popular | 9.653571e+02 |    54.071429 |    112.10000 |   105.560976 |\n",
       "| kimpetras       |    212594 | 20 Less Popular | 6.322444e+02 |    26.675000 |    769.22000 |    12.909091 |\n",
       "\n"
      ],
      "text/plain": [
       "   screen_name     followers_count group           average_like average_comment\n",
       "1  BLACKPINK         6531762       20 Most Popular 1.399773e+05  3372.647059   \n",
       "2  justinbieber    114200324       20 Most Popular 3.836398e+04  1055.142857   \n",
       "3  BTS_twt          46354472       20 Most Popular 1.884529e+06 60587.268293   \n",
       "4  marshmello        2431732       20 Most Popular 2.840907e+03    83.837209   \n",
       "5  Eminem           22676979       20 Most Popular 3.789943e+04  1076.972973   \n",
       "6  edsheeran        17615939       20 Most Popular 3.328020e+03    60.163265   \n",
       "7  taylorswift13    90368646       20 Most Popular 3.952794e+05 13947.612245   \n",
       "8  billieeilish      6820950       20 Most Popular 1.894619e+04   437.187500   \n",
       "9  katyperry       108881521       20 Most Popular 9.584191e+03   403.446809   \n",
       "10 IAmAlanWalker      843590       20 Most Popular 1.808476e+03    72.833333   \n",
       "11 sanbenito         4105211       20 Most Popular 1.658464e+05  1669.280000   \n",
       "12 rihanna         106804391       20 Most Popular 1.929091e+05  2202.180000   \n",
       "13 onedirection     31167620       20 Most Popular 3.937310e+05 15398.864865   \n",
       "14 xxxtentacion      2126535       20 Most Popular 9.812856e+04  1858.687500   \n",
       "15 daddy_yankee     15463023       20 Most Popular 7.177795e+03   518.363636   \n",
       "16 maroon5          14224462       20 Most Popular 9.161429e+02    54.025000   \n",
       "17 shakira          53076315       20 Most Popular 3.489711e+04   514.027778   \n",
       "18 ozuna             2044525       20 Most Popular 2.335167e+03    74.500000   \n",
       "19 BrunoMars        43291133       20 Most Popular 1.901540e+04   469.187500   \n",
       "20 selenagomez      65929166       20 Most Popular 3.678120e+04   822.160000   \n",
       "21 FKAtwigs           469259       20 Less Popular 2.948733e+03    47.272727   \n",
       "22 andygrammer        148050       20 Less Popular 6.134884e+01     7.116279   \n",
       "23 c_woodzofficial    365232       20 Less Popular 4.343444e+03    69.485714   \n",
       "24 beforeyouexit      208746       20 Less Popular 2.891875e+02    29.586207   \n",
       "25 rrr001222          118978       20 Less Popular 1.707600e+03     5.071429   \n",
       "26 CAVETOWN           308193       20 Less Popular 2.090395e+03    47.465116   \n",
       "27 clairo             517917       20 Less Popular 3.593029e+03   221.323529   \n",
       "28 oneruel            198491       20 Less Popular 1.799617e+03   118.489362   \n",
       "29 Olivertree         255125       20 Less Popular 1.519662e+04   231.531915   \n",
       "30 TessaViolet        190621       20 Less Popular 3.925435e+02    26.450000   \n",
       "31 alinabaraz         163643       20 Less Popular 1.464369e+04   205.422222   \n",
       "32 CigsAfterSexx      361809       20 Less Popular 1.481568e+04    89.340909   \n",
       "33 KygoMusic          475969       20 Less Popular 8.720000e+02    46.370370   \n",
       "34 ninanesbitt        180735       20 Less Popular 1.658444e+02    14.568182   \n",
       "35 cleanbandit        410495       20 Less Popular 2.077059e+02     6.666667   \n",
       "36 ChaseAtlantic      200576       20 Less Popular 3.194224e+03   171.458333   \n",
       "37 tatemcrae          104488       20 Less Popular 1.412056e+03    91.111111   \n",
       "38 hellohonne         199058       20 Less Popular 5.871250e+02    21.225000   \n",
       "39 JorjaSmith         427003       20 Less Popular 9.653571e+02    54.071429   \n",
       "40 kimpetras          212594       20 Less Popular 6.322444e+02    26.675000   \n",
       "   average_retweet average_quote\n",
       "1   33051.18000     4113.058824 \n",
       "2    5371.14000      633.000000 \n",
       "3  490850.55102    45099.731707 \n",
       "4     268.10000       98.382353 \n",
       "5    3884.88000      763.621622 \n",
       "6     310.56000       61.530612 \n",
       "7   64436.86000    22977.061224 \n",
       "8    1462.82000      421.687500 \n",
       "9     992.92000      214.574468 \n",
       "10    249.64000       26.605263 \n",
       "11  14980.92000     3175.360000 \n",
       "12  18475.20000     2762.080000 \n",
       "13 146214.18000    16950.756757 \n",
       "14  21865.48980     1959.156250 \n",
       "15    611.58000      176.000000 \n",
       "16    111.18000       47.205128 \n",
       "17   1111.58000      217.888889 \n",
       "18    202.93617       39.636364 \n",
       "19   2705.30000      365.166667 \n",
       "20   3623.02000      474.520000 \n",
       "21    287.34000      170.977273 \n",
       "22      7.32000        2.500000 \n",
       "23   1494.18000      178.388889 \n",
       "24     58.00000       22.444444 \n",
       "25     77.10204        4.733333 \n",
       "26     99.66000       45.363636 \n",
       "27    239.76000      110.970588 \n",
       "28    338.10000       57.304348 \n",
       "29   1520.28000      208.847826 \n",
       "30    561.60000       12.388889 \n",
       "31   7675.91837      540.088889 \n",
       "32   6190.32000      330.222222 \n",
       "33     99.24000       27.500000 \n",
       "34     16.24000        6.896552 \n",
       "35    362.46000        1.823529 \n",
       "36    398.54000      153.325581 \n",
       "37     97.90000       14.242424 \n",
       "38     84.92000       38.761905 \n",
       "39    112.10000      105.560976 \n",
       "40    769.22000       12.909091 "
      ]
     },
     "metadata": {},
     "output_type": "display_data"
    }
   ],
   "source": [
    "setwd(\"D:/Study/DATA419/Group Project/Twitter/engagement_data/\")\n",
    "\n",
    "i <- 1\n",
    "n <- nrow(follower_matrix)\n",
    "while(i <= n) {\n",
    "    #print(str_c(str_c(follower_matrix[i,\"screen_name\"]),\".csv\"))\n",
    "    artist_data_matrix <- read.csv(str_c(str_c(follower_matrix[i,\"screen_name\"]),\".csv\"), row.names = 1)\n",
    "    artist_data_matrix <- artist_data_matrix[-c(5)]\n",
    "    follower_matrix[i,\"average_retweet\"] <- mean(artist_data_matrix$retweet_count)\n",
    "    follower_matrix[i,\"average_like\"] <- mean(artist_data_matrix[artist_data_matrix$like_count != 0,]$like_count)\n",
    "    follower_matrix[i,\"average_comment\"] <- mean(artist_data_matrix[artist_data_matrix$reply_count != 0,]$reply_count)\n",
    "    follower_matrix[i,\"average_quote\"] <- mean(artist_data_matrix[artist_data_matrix$quote_count != 0,]$quote_count)\n",
    "    i <- i + 1\n",
    "}\n",
    "follower_matrix$group <- factor(follower_matrix$group, levels = c(\"20 Most Popular\", \"20 Less Popular\"))\n",
    "follower_matrix"
   ]
  },
  {
   "cell_type": "markdown",
   "metadata": {},
   "source": [
    "## Retweet statistics"
   ]
  },
  {
   "cell_type": "code",
   "execution_count": 90,
   "metadata": {
    "vscode": {
     "languageId": "r"
    }
   },
   "outputs": [
    {
     "data": {
      "image/png": "[encoded data removed]",
      "text/plain": [
       "plot without title"
      ]
     },
     "metadata": {
      "image/png": {
       "height": 420,
       "width": 420
      }
     },
     "output_type": "display_data"
    }
   ],
   "source": [
    "follower_matrix %>%\n",
    "  mutate(screen_name = fct_reorder(screen_name, desc(average_retweet))) %>%\n",
    "ggplot(aes(x=screen_name)) +\n",
    "  theme_grey() +\n",
    "  geom_col(aes(y=average_retweet, fill=group), width=0.4) +\n",
    "  #scale_y_log10() +\n",
    "  #geom_bar(aes(y=followers_count), fill='blue', stat=\"identity\", position = \"dodge\") +\n",
    "  xlab(\"Artists\") +\n",
    "  ylab(\"Average retweet count - log2\") +\n",
    "  theme(axis.title.x = element_text(size=12)) +\n",
    "  theme(axis.text.x = element_text(size=6, angle = 90, vjust = 1, hjust = 1)) +\n",
    "  theme(axis.title.y = element_text(size=12, vjust=2)) +\n",
    "  theme(plot.title = element_text(size=14, hjust = 0.5)) +\n",
    "  theme(aspect.ratio=1/2) +\n",
    "  ggtitle(\"Average Retweet Count Per Tweet\") +\n",
    "  scale_y_continuous(trans = 'log2')\n",
    "  #scale_y_continuous(labels = label_number(suffix = \" K\", scale = 1e-3), breaks = seq(0, 500000, by = 100000))  "
   ]
  },
  {
   "cell_type": "markdown",
   "metadata": {},
   "source": [
    "Per Follower"
   ]
  },
  {
   "cell_type": "code",
   "execution_count": 77,
   "metadata": {
    "vscode": {
     "languageId": "r"
    }
   },
   "outputs": [
    {
     "data": {
      "image/png": "[encoded data removed]",
      "text/plain": [
       "plot without title"
      ]
     },
     "metadata": {
      "image/png": {
       "height": 420,
       "width": 420
      }
     },
     "output_type": "display_data"
    }
   ],
   "source": [
    "follower_matrix %>%\n",
    "  mutate(screen_name = fct_reorder(screen_name, desc(average_retweet/followers_count))) %>%\n",
    "ggplot(aes(x=screen_name)) +\n",
    "  theme_grey() +\n",
    "  geom_col(aes(y=average_retweet/followers_count, fill=group), width=0.4) +\n",
    "  #scale_y_log10() +\n",
    "  #geom_bar(aes(y=followers_count), fill='blue', stat=\"identity\", position = \"dodge\") +\n",
    "  xlab(\"Artists\") +\n",
    "  ylab(\"Average retweet count\") +\n",
    "  theme(axis.title.x = element_text(size=12)) +\n",
    "  theme(axis.text.x = element_text(size=6, angle = 90, vjust = 1, hjust = 1)) +\n",
    "  theme(axis.title.y = element_text(size=12, vjust=2)) +\n",
    "  theme(plot.title = element_text(size=14, hjust = 0.5)) +\n",
    "  theme(aspect.ratio=1/2) +\n",
    "  ggtitle(\"Average Retweet Count Per Tweet Per Follower\") #+\n",
    "  #scale_y_continuous(trans = 'log2')\n",
    "  #scale_y_continuous(labels = label_number(suffix = \" K\", scale = 1e-3), breaks = seq(0, 500000, by = 100000))  "
   ]
  },
  {
   "cell_type": "markdown",
   "metadata": {},
   "source": [
    "## Comment statistics"
   ]
  },
  {
   "cell_type": "code",
   "execution_count": 76,
   "metadata": {
    "vscode": {
     "languageId": "r"
    }
   },
   "outputs": [
    {
     "data": {
      "image/png": "[encoded data removed]",
      "text/plain": [
       "plot without title"
      ]
     },
     "metadata": {
      "image/png": {
       "height": 420,
       "width": 420
      }
     },
     "output_type": "display_data"
    }
   ],
   "source": [
    "follower_matrix %>%\n",
    "  mutate(screen_name = fct_reorder(screen_name, desc(average_comment))) %>%\n",
    "ggplot(aes(x=screen_name)) +\n",
    "  theme_grey() +\n",
    "  geom_col(aes(y=average_comment, fill=group), width=0.6) +\n",
    "  #scale_y_log10() +\n",
    "  #geom_bar(aes(y=followers_count), fill='blue', stat=\"identity\", position = \"dodge\") +\n",
    "  xlab(\"Artists\") +\n",
    "  ylab(\"Average comment count - log2\") +\n",
    "  theme(axis.title.x = element_text(size=12)) +\n",
    "  theme(axis.text.x = element_text(size=6, angle = 90, vjust = 1, hjust = 1)) +\n",
    "  theme(axis.title.y = element_text(size=12, vjust=2)) +\n",
    "  theme(plot.title = element_text(size=14, hjust = 0.5)) +\n",
    "  theme(aspect.ratio=1/2) +\n",
    "  ggtitle(\"Average Comment Count Per Tweet\") +\n",
    "  scale_y_continuous(trans = 'log2')\n",
    "  #scale_y_continuous(labels = label_number(suffix = \" K\", scale = 1e-3), breaks = seq(0, 500000, by = 100000))  "
   ]
  },
  {
   "cell_type": "markdown",
   "metadata": {},
   "source": [
    "Per Follower"
   ]
  },
  {
   "cell_type": "code",
   "execution_count": 95,
   "metadata": {
    "vscode": {
     "languageId": "r"
    }
   },
   "outputs": [
    {
     "data": {
      "image/png": "[encoded data removed]",
      "text/plain": [
       "plot without title"
      ]
     },
     "metadata": {
      "image/png": {
       "height": 420,
       "width": 420
      }
     },
     "output_type": "display_data"
    }
   ],
   "source": [
    "follower_matrix %>%\n",
    "  mutate(screen_name = fct_reorder(screen_name, desc(average_comment/followers_count))) %>%\n",
    "ggplot(aes(x=screen_name)) +\n",
    "  theme_grey() +\n",
    "  geom_col(aes(y=average_comment/followers_count, fill=group), width=0.4) +\n",
    "  #scale_y_log10() +\n",
    "  #geom_bar(aes(y=followers_count), fill='blue', stat=\"identity\", position = \"dodge\") +\n",
    "  xlab(\"Artists\") +\n",
    "  ylab(\"Average comment count\") +\n",
    "  theme(axis.title.x = element_text(size=12)) +\n",
    "  theme(axis.text.x = element_text(size=6, angle = 90, vjust = 1, hjust = 1)) +\n",
    "  theme(axis.title.y = element_text(size=12, vjust=2)) +\n",
    "  theme(plot.title = element_text(size=14, hjust = 0.5)) +\n",
    "  theme(aspect.ratio=1/2) +\n",
    "  ggtitle(\"Average Comment Count Per Tweet Per Follower\") +\n",
    "  scale_y_continuous(labels = function(x) format(x, scientific = FALSE), breaks = seq(0, 0.0015, by = 0.0005))  "
   ]
  },
  {
   "cell_type": "markdown",
   "metadata": {},
   "source": [
    "## Like statistics"
   ]
  },
  {
   "cell_type": "code",
   "execution_count": 94,
   "metadata": {
    "vscode": {
     "languageId": "r"
    }
   },
   "outputs": [
    {
     "data": {
      "image/png": "[encoded data removed]",
      "text/plain": [
       "plot without title"
      ]
     },
     "metadata": {
      "image/png": {
       "height": 420,
       "width": 420
      }
     },
     "output_type": "display_data"
    }
   ],
   "source": [
    "follower_matrix %>%\n",
    "  mutate(screen_name = fct_reorder(screen_name, desc(average_like))) %>%\n",
    "ggplot(aes(x=screen_name)) +\n",
    "  theme_grey() +\n",
    "  geom_col(aes(y=average_like, fill=group), width=0.6) +\n",
    "  #scale_y_log10() +\n",
    "  #geom_bar(aes(y=followers_count), fill='blue', stat=\"identity\", position = \"dodge\") +\n",
    "  xlab(\"Artists\") +\n",
    "  ylab(\"Average like count - log2\") +\n",
    "  theme(axis.title.x = element_text(size=12)) +\n",
    "  theme(axis.text.x = element_text(size=6, angle = 90, vjust = 1, hjust = 1)) +\n",
    "  theme(axis.title.y = element_text(size=12, vjust=2)) +\n",
    "  theme(plot.title = element_text(size=14, hjust = 0.5)) +\n",
    "  theme(aspect.ratio=1/2) +\n",
    "  ggtitle(\"Average Like Count Per Tweet\") +\n",
    "  scale_y_continuous(trans = 'log2')\n",
    "  #scale_y_continuous(labels = label_number(suffix = \" K\", scale = 1e-3), breaks = seq(0, 500000, by = 100000))  "
   ]
  },
  {
   "cell_type": "markdown",
   "metadata": {},
   "source": [
    "Per Follower"
   ]
  },
  {
   "cell_type": "code",
   "execution_count": 93,
   "metadata": {
    "vscode": {
     "languageId": "r"
    }
   },
   "outputs": [
    {
     "data": {
      "image/png": "[encoded data removed]",
      "text/plain": [
       "plot without title"
      ]
     },
     "metadata": {
      "image/png": {
       "height": 420,
       "width": 420
      }
     },
     "output_type": "display_data"
    }
   ],
   "source": [
    "follower_matrix %>%\n",
    "  mutate(screen_name = fct_reorder(screen_name, desc(average_like/followers_count))) %>%\n",
    "ggplot(aes(x=screen_name)) +\n",
    "  theme_grey() +\n",
    "  geom_col(aes(y=average_like/followers_count, fill=group), width=0.4) +\n",
    "  #scale_y_log10() +\n",
    "  #geom_bar(aes(y=followers_count), fill='blue', stat=\"identity\", position = \"dodge\") +\n",
    "  xlab(\"Artists\") +\n",
    "  ylab(\"Average like count\") +\n",
    "  theme(axis.title.x = element_text(size=12)) +\n",
    "  theme(axis.text.x = element_text(size=6, angle = 90, vjust = 1, hjust = 1)) +\n",
    "  theme(axis.title.y = element_text(size=12, vjust=2)) +\n",
    "  theme(plot.title = element_text(size = 14, hjust = 0.5)) +\n",
    "  theme(aspect.ratio=1/2) +\n",
    "  ggtitle(\"Average Like Count Per Tweet Per Follower\") #+\n",
    "  #scale_y_continuous(trans = 'log2')\n",
    "  #scale_y_continuous(labels = label_number(suffix = \" K\", scale = 1e-3), breaks = seq(0, 500000, by = 100000))  "
   ]
  },
  {
   "cell_type": "markdown",
   "metadata": {},
   "source": [
    "## Quote statistics"
   ]
  },
  {
   "cell_type": "code",
   "execution_count": 92,
   "metadata": {
    "vscode": {
     "languageId": "r"
    }
   },
   "outputs": [
    {
     "data": {
      "image/png": "[encoded data removed]",
      "text/plain": [
       "plot without title"
      ]
     },
     "metadata": {
      "image/png": {
       "height": 420,
       "width": 420
      }
     },
     "output_type": "display_data"
    }
   ],
   "source": [
    "follower_matrix %>%\n",
    "  mutate(screen_name = fct_reorder(screen_name, desc(average_quote))) %>%\n",
    "ggplot(aes(x=screen_name)) +\n",
    "  theme_grey() +\n",
    "  geom_col(aes(y=average_quote, fill=group), width=0.6) +\n",
    "  #scale_y_log10() +\n",
    "  #geom_bar(aes(y=followers_count), fill='blue', stat=\"identity\", position = \"dodge\") +\n",
    "  xlab(\"Artists\") +\n",
    "  ylab(\"Average quote count - log2\") +\n",
    "  theme(axis.title.x = element_text(size=12)) +\n",
    "  theme(axis.text.x = element_text(size=6, angle = 90, vjust = 1, hjust = 1)) +\n",
    "  theme(axis.title.y = element_text(size=12, vjust=2)) +\n",
    "  theme(plot.title = element_text(size = 14, hjust = 0.5)) +\n",
    "  theme(aspect.ratio=1/2) +\n",
    "  ggtitle(\"Average Quote Count Per Tweet\") +\n",
    "  scale_y_continuous(trans = 'log2')\n",
    "  #scale_y_continuous(labels = label_number(suffix = \" K\", scale = 1e-3), breaks = seq(0, 500000, by = 100000))  "
   ]
  },
  {
   "cell_type": "markdown",
   "metadata": {},
   "source": [
    "Per Follower"
   ]
  },
  {
   "cell_type": "code",
   "execution_count": 91,
   "metadata": {
    "vscode": {
     "languageId": "r"
    }
   },
   "outputs": [
    {
     "data": {
      "image/png": "[encoded data removed]",
      "text/plain": [
       "plot without title"
      ]
     },
     "metadata": {
      "image/png": {
       "height": 420,
       "width": 420
      }
     },
     "output_type": "display_data"
    }
   ],
   "source": [
    "follower_matrix %>%\n",
    "  mutate(screen_name = fct_reorder(screen_name, desc(average_quote/followers_count))) %>%\n",
    "ggplot(aes(x=screen_name)) +\n",
    "  theme_grey() +\n",
    "  geom_col(aes(y=average_quote/followers_count, fill=group), width=0.4) +\n",
    "  #scale_y_log10() +\n",
    "  #geom_bar(aes(y=followers_count), fill='blue', stat=\"identity\", position = \"dodge\") +\n",
    "  xlab(\"Artists\") +\n",
    "  ylab(\"Average quote count\") +\n",
    "  theme(axis.title.x = element_text(size=12)) +\n",
    "  theme(axis.text.x = element_text(size=6, angle = 90, vjust = 1, hjust = 1)) +\n",
    "  theme(axis.title.y = element_text(size=12, vjust=2)) +\n",
    "  theme(plot.title = element_text(size=14, hjust = 0.5)) +\n",
    "  theme(aspect.ratio=1/2) +\n",
    "  ggtitle(\"Average Quote Count Per Tweet Per Follower\") #+\n",
    "  #scale_y_continuous(trans = 'log2')\n",
    "  #scale_y_continuous(labels = label_number(suffix = \" K\", scale = 1e-3), breaks = seq(0, 500000, by = 100000))  "
   ]
  }
 ],
 "metadata": {
  "kernelspec": {
   "display_name": "R",
   "language": "R",
   "name": "ir"
  },
  "language_info": {
   "codemirror_mode": "r",
   "file_extension": ".r",
   "mimetype": "text/x-r-source",
   "name": "R",
   "pygments_lexer": "r",
   "version": "3.6.3"
  },
  "orig_nbformat": 4,
  "vscode": {
   "interpreter": {
    "hash": "45a851a8e049304e8d8fc9276f397ed5699faa42a654317800ed71714fc34a6c"
   }
  }
 },
 "nbformat": 4,
 "nbformat_minor": 2
}
