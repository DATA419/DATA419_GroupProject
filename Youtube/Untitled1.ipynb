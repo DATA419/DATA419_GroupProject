{
 "cells": [
  {
   "cell_type": "code",
   "execution_count": 5,
   "id": "656b2cb7-ae4c-4907-919f-5e348dec767b",
   "metadata": {},
   "outputs": [
    {
     "name": "stderr",
     "output_type": "stream",
     "text": [
      "Warning message:\n",
      "\"package 'tidyverse' was built under R version 4.1.2\"\n",
      "-- \u001b[1mAttaching packages\u001b[22m ------------------------------------------------------------------------------- tidyverse 1.3.1 --\n",
      "\n",
      "\u001b[32mv\u001b[39m \u001b[34mggplot2\u001b[39m 3.3.5     \u001b[32mv\u001b[39m \u001b[34mpurrr  \u001b[39m 0.3.4\n",
      "\u001b[32mv\u001b[39m \u001b[34mtibble \u001b[39m 3.1.6     \u001b[32mv\u001b[39m \u001b[34mdplyr  \u001b[39m 1.0.7\n",
      "\u001b[32mv\u001b[39m \u001b[34mtidyr  \u001b[39m 1.1.4     \u001b[32mv\u001b[39m \u001b[34mstringr\u001b[39m 1.4.0\n",
      "\u001b[32mv\u001b[39m \u001b[34mreadr  \u001b[39m 2.1.0     \u001b[32mv\u001b[39m \u001b[34mforcats\u001b[39m 0.5.1\n",
      "\n",
      "Warning message:\n",
      "\"package 'tibble' was built under R version 4.1.2\"\n",
      "Warning message:\n",
      "\"package 'tidyr' was built under R version 4.1.2\"\n",
      "Warning message:\n",
      "\"package 'readr' was built under R version 4.1.2\"\n",
      "-- \u001b[1mConflicts\u001b[22m ---------------------------------------------------------------------------------- tidyverse_conflicts() --\n",
      "\u001b[31mx\u001b[39m \u001b[34mdplyr\u001b[39m::\u001b[32mfilter()\u001b[39m masks \u001b[34mstats\u001b[39m::filter()\n",
      "\u001b[31mx\u001b[39m \u001b[34mdplyr\u001b[39m::\u001b[32mlag()\u001b[39m    masks \u001b[34mstats\u001b[39m::lag()\n",
      "\n"
     ]
    }
   ],
   "source": [
    "library(stats)\n",
    "library(tidyverse)"
   ]
  },
  {
   "cell_type": "code",
   "execution_count": 13,
   "id": "37c96bf4-8236-4e20-95d1-9b933d99d79b",
   "metadata": {},
   "outputs": [],
   "source": [
    "df <- read.csv('all_youtube.csv')"
   ]
  },
  {
   "cell_type": "code",
   "execution_count": 14,
   "id": "32a87c42-9674-4eae-83b2-610e57045821",
   "metadata": {},
   "outputs": [],
   "source": [
    "df$Group <- df$Group %>% as.factor()"
   ]
  },
  {
   "cell_type": "code",
   "execution_count": 15,
   "id": "37d8e45c-d315-47a4-9489-d3c244c8b3d6",
   "metadata": {},
   "outputs": [
    {
     "data": {
      "text/html": [
       "<table class=\"dataframe\">\n",
       "<caption>A data.frame: 5 × 12</caption>\n",
       "<thead>\n",
       "\t<tr><th></th><th scope=col>X</th><th scope=col>Video_Title</th><th scope=col>Video_PublishDate</th><th scope=col>Video_Views</th><th scope=col>Video_Likes</th><th scope=col>Video_Comments</th><th scope=col>Group</th><th scope=col>Channel_name</th><th scope=col>Subscribers</th><th scope=col>Comments_rate</th><th scope=col>Likes_rate</th><th scope=col>Views_rate</th></tr>\n",
       "\t<tr><th></th><th scope=col>&lt;int&gt;</th><th scope=col>&lt;chr&gt;</th><th scope=col>&lt;chr&gt;</th><th scope=col>&lt;dbl&gt;</th><th scope=col>&lt;dbl&gt;</th><th scope=col>&lt;dbl&gt;</th><th scope=col>&lt;fct&gt;</th><th scope=col>&lt;chr&gt;</th><th scope=col>&lt;int&gt;</th><th scope=col>&lt;dbl&gt;</th><th scope=col>&lt;dbl&gt;</th><th scope=col>&lt;dbl&gt;</th></tr>\n",
       "</thead>\n",
       "<tbody>\n",
       "\t<tr><th scope=row>1</th><td>0</td><td>Walkerverse - The Tour (Trailer)                              </td><td>2022-05-06T14:08:30Z</td><td> 206768</td><td> 18705</td><td>1220</td><td>famed</td><td>Alan Walker</td><td>41800000</td><td>0.002918660</td><td>0.04474880</td><td>0.4946603</td></tr>\n",
       "\t<tr><th scope=row>2</th><td>1</td><td>Walkerverse The Tour - Premiere Stream                        </td><td>2022-05-06T14:00:11Z</td><td> 341236</td><td> 36454</td><td>2510</td><td>famed</td><td>Alan Walker</td><td>41800000</td><td>0.006004785</td><td>0.08721053</td><td>0.8163541</td></tr>\n",
       "\t<tr><th scope=row>3</th><td>2</td><td>Alan Walker - The Drum (Official Music Video)                 </td><td>2022-04-29T14:00:13Z</td><td>2572446</td><td>144067</td><td>7319</td><td>famed</td><td>Alan Walker</td><td>41800000</td><td>0.017509569</td><td>0.34465789</td><td>6.1541770</td></tr>\n",
       "\t<tr><th scope=row>4</th><td>3</td><td>Alan Walker - The Drum (Official Music Video) Trailer #shorts </td><td>2022-04-27T16:56:27Z</td><td> 140413</td><td> 17054</td><td> 561</td><td>famed</td><td>Alan Walker</td><td>41800000</td><td>0.001342105</td><td>0.04079904</td><td>0.3359163</td></tr>\n",
       "\t<tr><th scope=row>5</th><td>4</td><td>Calming Down CRAZY Crowd at Lollapalooza - Unmasked Vlog (#29)</td><td>2022-04-22T12:01:03Z</td><td> 286643</td><td> 23234</td><td>1336</td><td>famed</td><td>Alan Walker</td><td>41800000</td><td>0.003196172</td><td>0.05558373</td><td>0.6857488</td></tr>\n",
       "</tbody>\n",
       "</table>\n"
      ],
      "text/latex": [
       "A data.frame: 5 × 12\n",
       "\\begin{tabular}{r|llllllllllll}\n",
       "  & X & Video\\_Title & Video\\_PublishDate & Video\\_Views & Video\\_Likes & Video\\_Comments & Group & Channel\\_name & Subscribers & Comments\\_rate & Likes\\_rate & Views\\_rate\\\\\n",
       "  & <int> & <chr> & <chr> & <dbl> & <dbl> & <dbl> & <fct> & <chr> & <int> & <dbl> & <dbl> & <dbl>\\\\\n",
       "\\hline\n",
       "\t1 & 0 & Walkerverse - The Tour (Trailer)                               & 2022-05-06T14:08:30Z &  206768 &  18705 & 1220 & famed & Alan Walker & 41800000 & 0.002918660 & 0.04474880 & 0.4946603\\\\\n",
       "\t2 & 1 & Walkerverse The Tour - Premiere Stream                         & 2022-05-06T14:00:11Z &  341236 &  36454 & 2510 & famed & Alan Walker & 41800000 & 0.006004785 & 0.08721053 & 0.8163541\\\\\n",
       "\t3 & 2 & Alan Walker - The Drum (Official Music Video)                  & 2022-04-29T14:00:13Z & 2572446 & 144067 & 7319 & famed & Alan Walker & 41800000 & 0.017509569 & 0.34465789 & 6.1541770\\\\\n",
       "\t4 & 3 & Alan Walker - The Drum (Official Music Video) Trailer \\#shorts  & 2022-04-27T16:56:27Z &  140413 &  17054 &  561 & famed & Alan Walker & 41800000 & 0.001342105 & 0.04079904 & 0.3359163\\\\\n",
       "\t5 & 4 & Calming Down CRAZY Crowd at Lollapalooza - Unmasked Vlog (\\#29) & 2022-04-22T12:01:03Z &  286643 &  23234 & 1336 & famed & Alan Walker & 41800000 & 0.003196172 & 0.05558373 & 0.6857488\\\\\n",
       "\\end{tabular}\n"
      ],
      "text/markdown": [
       "\n",
       "A data.frame: 5 × 12\n",
       "\n",
       "| <!--/--> | X &lt;int&gt; | Video_Title &lt;chr&gt; | Video_PublishDate &lt;chr&gt; | Video_Views &lt;dbl&gt; | Video_Likes &lt;dbl&gt; | Video_Comments &lt;dbl&gt; | Group &lt;fct&gt; | Channel_name &lt;chr&gt; | Subscribers &lt;int&gt; | Comments_rate &lt;dbl&gt; | Likes_rate &lt;dbl&gt; | Views_rate &lt;dbl&gt; |\n",
       "|---|---|---|---|---|---|---|---|---|---|---|---|---|\n",
       "| 1 | 0 | Walkerverse - The Tour (Trailer)                               | 2022-05-06T14:08:30Z |  206768 |  18705 | 1220 | famed | Alan Walker | 41800000 | 0.002918660 | 0.04474880 | 0.4946603 |\n",
       "| 2 | 1 | Walkerverse The Tour - Premiere Stream                         | 2022-05-06T14:00:11Z |  341236 |  36454 | 2510 | famed | Alan Walker | 41800000 | 0.006004785 | 0.08721053 | 0.8163541 |\n",
       "| 3 | 2 | Alan Walker - The Drum (Official Music Video)                  | 2022-04-29T14:00:13Z | 2572446 | 144067 | 7319 | famed | Alan Walker | 41800000 | 0.017509569 | 0.34465789 | 6.1541770 |\n",
       "| 4 | 3 | Alan Walker - The Drum (Official Music Video) Trailer #shorts  | 2022-04-27T16:56:27Z |  140413 |  17054 |  561 | famed | Alan Walker | 41800000 | 0.001342105 | 0.04079904 | 0.3359163 |\n",
       "| 5 | 4 | Calming Down CRAZY Crowd at Lollapalooza - Unmasked Vlog (#29) | 2022-04-22T12:01:03Z |  286643 |  23234 | 1336 | famed | Alan Walker | 41800000 | 0.003196172 | 0.05558373 | 0.6857488 |\n",
       "\n"
      ],
      "text/plain": [
       "  X Video_Title                                                   \n",
       "1 0 Walkerverse - The Tour (Trailer)                              \n",
       "2 1 Walkerverse The Tour - Premiere Stream                        \n",
       "3 2 Alan Walker - The Drum (Official Music Video)                 \n",
       "4 3 Alan Walker - The Drum (Official Music Video) Trailer #shorts \n",
       "5 4 Calming Down CRAZY Crowd at Lollapalooza - Unmasked Vlog (#29)\n",
       "  Video_PublishDate    Video_Views Video_Likes Video_Comments Group\n",
       "1 2022-05-06T14:08:30Z  206768      18705      1220           famed\n",
       "2 2022-05-06T14:00:11Z  341236      36454      2510           famed\n",
       "3 2022-04-29T14:00:13Z 2572446     144067      7319           famed\n",
       "4 2022-04-27T16:56:27Z  140413      17054       561           famed\n",
       "5 2022-04-22T12:01:03Z  286643      23234      1336           famed\n",
       "  Channel_name Subscribers Comments_rate Likes_rate Views_rate\n",
       "1 Alan Walker  41800000    0.002918660   0.04474880 0.4946603 \n",
       "2 Alan Walker  41800000    0.006004785   0.08721053 0.8163541 \n",
       "3 Alan Walker  41800000    0.017509569   0.34465789 6.1541770 \n",
       "4 Alan Walker  41800000    0.001342105   0.04079904 0.3359163 \n",
       "5 Alan Walker  41800000    0.003196172   0.05558373 0.6857488 "
      ]
     },
     "metadata": {},
     "output_type": "display_data"
    }
   ],
   "source": [
    "df %>% head(5)"
   ]
  },
  {
   "cell_type": "code",
   "execution_count": 18,
   "id": "a6f5da35-23c2-4017-8a1f-2ec0cbf3d237",
   "metadata": {},
   "outputs": [
    {
     "data": {
      "text/html": [
       "<style>\n",
       ".list-inline {list-style: none; margin:0; padding: 0}\n",
       ".list-inline>li {display: inline-block}\n",
       ".list-inline>li:not(:last-child)::after {content: \"\\00b7\"; padding: 0 .5ex}\n",
       "</style>\n",
       "<ol class=list-inline><li>'famed'</li><li>'underrated'</li></ol>\n"
      ],
      "text/latex": [
       "\\begin{enumerate*}\n",
       "\\item 'famed'\n",
       "\\item 'underrated'\n",
       "\\end{enumerate*}\n"
      ],
      "text/markdown": [
       "1. 'famed'\n",
       "2. 'underrated'\n",
       "\n",
       "\n"
      ],
      "text/plain": [
       "[1] \"famed\"      \"underrated\""
      ]
     },
     "metadata": {},
     "output_type": "display_data"
    }
   ],
   "source": [
    "df$Group %>% levels()"
   ]
  },
  {
   "cell_type": "code",
   "execution_count": 21,
   "id": "ec4fc51b-90b0-4874-8af4-f44e9937a5f7",
   "metadata": {},
   "outputs": [
    {
     "data": {
      "text/plain": [
       "\n",
       "\tWilcoxon rank sum test with continuity correction\n",
       "\n",
       "data:  Likes_rate by Group\n",
       "W = 4209854, p-value < 2.2e-16\n",
       "alternative hypothesis: true location shift is not equal to 0\n"
      ]
     },
     "metadata": {},
     "output_type": "display_data"
    }
   ],
   "source": [
    "wilcox.test(Likes_rate~Group, data = df)"
   ]
  },
  {
   "cell_type": "code",
   "execution_count": 22,
   "id": "3acd72ae-e707-4f72-a472-bf097bf30468",
   "metadata": {},
   "outputs": [
    {
     "data": {
      "text/plain": [
       "\n",
       "\tWilcoxon rank sum test with continuity correction\n",
       "\n",
       "data:  Comments_rate by Group\n",
       "W = 3959663, p-value < 2.2e-16\n",
       "alternative hypothesis: true location shift is not equal to 0\n"
      ]
     },
     "metadata": {},
     "output_type": "display_data"
    }
   ],
   "source": [
    "wilcox.test(Comments_rate~Group, data = df)"
   ]
  },
  {
   "cell_type": "code",
   "execution_count": 23,
   "id": "be087afb-f8bc-469d-9579-4c8a2d7bf636",
   "metadata": {},
   "outputs": [
    {
     "data": {
      "text/plain": [
       "\n",
       "\tWilcoxon rank sum test with continuity correction\n",
       "\n",
       "data:  Views_rate by Group\n",
       "W = 4263293, p-value < 2.2e-16\n",
       "alternative hypothesis: true location shift is not equal to 0\n"
      ]
     },
     "metadata": {},
     "output_type": "display_data"
    }
   ],
   "source": [
    "wilcox.test(Views_rate~Group, data = df)"
   ]
  },
  {
   "cell_type": "code",
   "execution_count": 24,
   "id": "effa7674-4733-43df-8620-a541b48e9eb6",
   "metadata": {},
   "outputs": [
    {
     "data": {
      "text/html": [
       "<table class=\"dataframe\">\n",
       "<caption>A tibble: 40 × 4</caption>\n",
       "<thead>\n",
       "\t<tr><th scope=col>Channel_name</th><th scope=col>average_comments</th><th scope=col>average_like</th><th scope=col>average_views</th></tr>\n",
       "\t<tr><th scope=col>&lt;chr&gt;</th><th scope=col>&lt;dbl&gt;</th><th scope=col>&lt;dbl&gt;</th><th scope=col>&lt;dbl&gt;</th></tr>\n",
       "</thead>\n",
       "<tbody>\n",
       "\t<tr><td>Alan Walker       </td><td>16448.6916</td><td> 384516.237</td><td> 35185298.90</td></tr>\n",
       "\t<tr><td>Alina Baraz       </td><td>  505.2295</td><td>  25435.934</td><td>  2059515.11</td></tr>\n",
       "\t<tr><td>Andy Grammer      </td><td>        NA</td><td>  16199.958</td><td>          NA</td></tr>\n",
       "\t<tr><td>Bad Bunny         </td><td>37894.4545</td><td>1306596.124</td><td>150384288.69</td></tr>\n",
       "\t<tr><td>BANGTANTV         </td><td>23118.8499</td><td>         NA</td><td>          NA</td></tr>\n",
       "\t<tr><td>Before You Exit   </td><td> 1202.9778</td><td>  27924.533</td><td>  1204828.93</td></tr>\n",
       "\t<tr><td>Billie Eilish     </td><td>        NA</td><td>         NA</td><td> 22482373.65</td></tr>\n",
       "\t<tr><td>BLACKPINK         </td><td>        NA</td><td>1327231.736</td><td> 56244924.77</td></tr>\n",
       "\t<tr><td>Bruno Mars        </td><td>36136.0206</td><td>1018490.660</td><td>162149749.64</td></tr>\n",
       "\t<tr><td>cavetown          </td><td>        NA</td><td>  38200.779</td><td>   963703.02</td></tr>\n",
       "\t<tr><td>CHASE ATLANTIC    </td><td> 1623.7042</td><td>  55335.901</td><td>  2166893.94</td></tr>\n",
       "\t<tr><td>CigarettesAfterSex</td><td> 3733.3333</td><td> 153671.667</td><td> 15109849.53</td></tr>\n",
       "\t<tr><td>Claire Cottrill   </td><td>        NA</td><td>         NA</td><td>  4305096.51</td></tr>\n",
       "\t<tr><td>Clean Bandit      </td><td> 6272.1474</td><td> 254542.603</td><td> 42927409.24</td></tr>\n",
       "\t<tr><td>Daddy Yankee      </td><td> 7264.4829</td><td> 197140.229</td><td>          NA</td></tr>\n",
       "\t<tr><td>Ed Sheeran        </td><td>        NA</td><td> 717687.527</td><td>104504451.88</td></tr>\n",
       "\t<tr><td>EminemMusic       </td><td> 8051.8696</td><td>         NA</td><td>          NA</td></tr>\n",
       "\t<tr><td>ëžŒë‹¤ëžŒ         </td><td> 1238.1837</td><td>  45450.541</td><td>  1056690.54</td></tr>\n",
       "\t<tr><td>FKA twigs         </td><td> 1093.1875</td><td>  26614.339</td><td>  1583100.21</td></tr>\n",
       "\t<tr><td>H O N N E         </td><td>  600.4348</td><td>  27136.812</td><td>  3296456.44</td></tr>\n",
       "\t<tr><td>Jorja Smith       </td><td>  622.7143</td><td>  35459.143</td><td>  1599265.71</td></tr>\n",
       "\t<tr><td>Justin Bieber     </td><td>        NA</td><td>         NA</td><td>          NA</td></tr>\n",
       "\t<tr><td>Katy Perry        </td><td>        NA</td><td>         NA</td><td>          NA</td></tr>\n",
       "\t<tr><td>Kim Petras        </td><td>  753.6026</td><td>  16089.462</td><td>  1050734.60</td></tr>\n",
       "\t<tr><td>KygoMusic         </td><td> 1248.7458</td><td>  64981.492</td><td> 10469856.29</td></tr>\n",
       "\t<tr><td>Maroon 5          </td><td>  775.9877</td><td>         NA</td><td>          NA</td></tr>\n",
       "\t<tr><td>Marshmello        </td><td>        NA</td><td> 397133.084</td><td> 31368356.61</td></tr>\n",
       "\t<tr><td>Nina Nesbitt      </td><td>  144.9529</td><td>   4936.624</td><td>   197393.13</td></tr>\n",
       "\t<tr><td>Oliver Tree       </td><td>        NA</td><td> 202859.072</td><td>  9306642.29</td></tr>\n",
       "\t<tr><td>One Direction     </td><td> 4637.4013</td><td>         NA</td><td>  3068518.63</td></tr>\n",
       "\t<tr><td>Ozuna             </td><td>21583.8759</td><td> 697869.788</td><td>139879930.55</td></tr>\n",
       "\t<tr><td>Rihanna           </td><td>  717.4430</td><td>  11715.278</td><td>  1042968.78</td></tr>\n",
       "\t<tr><td>RUEL              </td><td>  793.7547</td><td>  27816.566</td><td>   481886.98</td></tr>\n",
       "\t<tr><td>Selena Gomez      </td><td>        NA</td><td>  46739.687</td><td>  3154006.15</td></tr>\n",
       "\t<tr><td>Shakira           </td><td>        NA</td><td>         NA</td><td>  1399269.91</td></tr>\n",
       "\t<tr><td>Tate McRae        </td><td>        NA</td><td>  58809.748</td><td>  1404986.84</td></tr>\n",
       "\t<tr><td>Taylor Swift      </td><td> 2649.5185</td><td>         NA</td><td>  2110234.34</td></tr>\n",
       "\t<tr><td>Tessa Violet      </td><td>        NA</td><td>  30141.045</td><td>  1061435.75</td></tr>\n",
       "\t<tr><td>WOODZ             </td><td>  622.4430</td><td>  10419.513</td><td>    84586.11</td></tr>\n",
       "\t<tr><td>XXXTENTACION      </td><td>74343.9561</td><td>1073986.465</td><td> 59209220.13</td></tr>\n",
       "</tbody>\n",
       "</table>\n"
      ],
      "text/latex": [
       "A tibble: 40 × 4\n",
       "\\begin{tabular}{llll}\n",
       " Channel\\_name & average\\_comments & average\\_like & average\\_views\\\\\n",
       " <chr> & <dbl> & <dbl> & <dbl>\\\\\n",
       "\\hline\n",
       "\t Alan Walker        & 16448.6916 &  384516.237 &  35185298.90\\\\\n",
       "\t Alina Baraz        &   505.2295 &   25435.934 &   2059515.11\\\\\n",
       "\t Andy Grammer       &         NA &   16199.958 &           NA\\\\\n",
       "\t Bad Bunny          & 37894.4545 & 1306596.124 & 150384288.69\\\\\n",
       "\t BANGTANTV          & 23118.8499 &          NA &           NA\\\\\n",
       "\t Before You Exit    &  1202.9778 &   27924.533 &   1204828.93\\\\\n",
       "\t Billie Eilish      &         NA &          NA &  22482373.65\\\\\n",
       "\t BLACKPINK          &         NA & 1327231.736 &  56244924.77\\\\\n",
       "\t Bruno Mars         & 36136.0206 & 1018490.660 & 162149749.64\\\\\n",
       "\t cavetown           &         NA &   38200.779 &    963703.02\\\\\n",
       "\t CHASE ATLANTIC     &  1623.7042 &   55335.901 &   2166893.94\\\\\n",
       "\t CigarettesAfterSex &  3733.3333 &  153671.667 &  15109849.53\\\\\n",
       "\t Claire Cottrill    &         NA &          NA &   4305096.51\\\\\n",
       "\t Clean Bandit       &  6272.1474 &  254542.603 &  42927409.24\\\\\n",
       "\t Daddy Yankee       &  7264.4829 &  197140.229 &           NA\\\\\n",
       "\t Ed Sheeran         &         NA &  717687.527 & 104504451.88\\\\\n",
       "\t EminemMusic        &  8051.8696 &          NA &           NA\\\\\n",
       "\t ëžŒë‹¤ëžŒ          &  1238.1837 &   45450.541 &   1056690.54\\\\\n",
       "\t FKA twigs          &  1093.1875 &   26614.339 &   1583100.21\\\\\n",
       "\t H O N N E          &   600.4348 &   27136.812 &   3296456.44\\\\\n",
       "\t Jorja Smith        &   622.7143 &   35459.143 &   1599265.71\\\\\n",
       "\t Justin Bieber      &         NA &          NA &           NA\\\\\n",
       "\t Katy Perry         &         NA &          NA &           NA\\\\\n",
       "\t Kim Petras         &   753.6026 &   16089.462 &   1050734.60\\\\\n",
       "\t KygoMusic          &  1248.7458 &   64981.492 &  10469856.29\\\\\n",
       "\t Maroon 5           &   775.9877 &          NA &           NA\\\\\n",
       "\t Marshmello         &         NA &  397133.084 &  31368356.61\\\\\n",
       "\t Nina Nesbitt       &   144.9529 &    4936.624 &    197393.13\\\\\n",
       "\t Oliver Tree        &         NA &  202859.072 &   9306642.29\\\\\n",
       "\t One Direction      &  4637.4013 &          NA &   3068518.63\\\\\n",
       "\t Ozuna              & 21583.8759 &  697869.788 & 139879930.55\\\\\n",
       "\t Rihanna            &   717.4430 &   11715.278 &   1042968.78\\\\\n",
       "\t RUEL               &   793.7547 &   27816.566 &    481886.98\\\\\n",
       "\t Selena Gomez       &         NA &   46739.687 &   3154006.15\\\\\n",
       "\t Shakira            &         NA &          NA &   1399269.91\\\\\n",
       "\t Tate McRae         &         NA &   58809.748 &   1404986.84\\\\\n",
       "\t Taylor Swift       &  2649.5185 &          NA &   2110234.34\\\\\n",
       "\t Tessa Violet       &         NA &   30141.045 &   1061435.75\\\\\n",
       "\t WOODZ              &   622.4430 &   10419.513 &     84586.11\\\\\n",
       "\t XXXTENTACION       & 74343.9561 & 1073986.465 &  59209220.13\\\\\n",
       "\\end{tabular}\n"
      ],
      "text/markdown": [
       "\n",
       "A tibble: 40 × 4\n",
       "\n",
       "| Channel_name &lt;chr&gt; | average_comments &lt;dbl&gt; | average_like &lt;dbl&gt; | average_views &lt;dbl&gt; |\n",
       "|---|---|---|---|\n",
       "| Alan Walker        | 16448.6916 |  384516.237 |  35185298.90 |\n",
       "| Alina Baraz        |   505.2295 |   25435.934 |   2059515.11 |\n",
       "| Andy Grammer       |         NA |   16199.958 |           NA |\n",
       "| Bad Bunny          | 37894.4545 | 1306596.124 | 150384288.69 |\n",
       "| BANGTANTV          | 23118.8499 |          NA |           NA |\n",
       "| Before You Exit    |  1202.9778 |   27924.533 |   1204828.93 |\n",
       "| Billie Eilish      |         NA |          NA |  22482373.65 |\n",
       "| BLACKPINK          |         NA | 1327231.736 |  56244924.77 |\n",
       "| Bruno Mars         | 36136.0206 | 1018490.660 | 162149749.64 |\n",
       "| cavetown           |         NA |   38200.779 |    963703.02 |\n",
       "| CHASE ATLANTIC     |  1623.7042 |   55335.901 |   2166893.94 |\n",
       "| CigarettesAfterSex |  3733.3333 |  153671.667 |  15109849.53 |\n",
       "| Claire Cottrill    |         NA |          NA |   4305096.51 |\n",
       "| Clean Bandit       |  6272.1474 |  254542.603 |  42927409.24 |\n",
       "| Daddy Yankee       |  7264.4829 |  197140.229 |           NA |\n",
       "| Ed Sheeran         |         NA |  717687.527 | 104504451.88 |\n",
       "| EminemMusic        |  8051.8696 |          NA |           NA |\n",
       "| ëžŒë‹¤ëžŒ          |  1238.1837 |   45450.541 |   1056690.54 |\n",
       "| FKA twigs          |  1093.1875 |   26614.339 |   1583100.21 |\n",
       "| H O N N E          |   600.4348 |   27136.812 |   3296456.44 |\n",
       "| Jorja Smith        |   622.7143 |   35459.143 |   1599265.71 |\n",
       "| Justin Bieber      |         NA |          NA |           NA |\n",
       "| Katy Perry         |         NA |          NA |           NA |\n",
       "| Kim Petras         |   753.6026 |   16089.462 |   1050734.60 |\n",
       "| KygoMusic          |  1248.7458 |   64981.492 |  10469856.29 |\n",
       "| Maroon 5           |   775.9877 |          NA |           NA |\n",
       "| Marshmello         |         NA |  397133.084 |  31368356.61 |\n",
       "| Nina Nesbitt       |   144.9529 |    4936.624 |    197393.13 |\n",
       "| Oliver Tree        |         NA |  202859.072 |   9306642.29 |\n",
       "| One Direction      |  4637.4013 |          NA |   3068518.63 |\n",
       "| Ozuna              | 21583.8759 |  697869.788 | 139879930.55 |\n",
       "| Rihanna            |   717.4430 |   11715.278 |   1042968.78 |\n",
       "| RUEL               |   793.7547 |   27816.566 |    481886.98 |\n",
       "| Selena Gomez       |         NA |   46739.687 |   3154006.15 |\n",
       "| Shakira            |         NA |          NA |   1399269.91 |\n",
       "| Tate McRae         |         NA |   58809.748 |   1404986.84 |\n",
       "| Taylor Swift       |  2649.5185 |          NA |   2110234.34 |\n",
       "| Tessa Violet       |         NA |   30141.045 |   1061435.75 |\n",
       "| WOODZ              |   622.4430 |   10419.513 |     84586.11 |\n",
       "| XXXTENTACION       | 74343.9561 | 1073986.465 |  59209220.13 |\n",
       "\n"
      ],
      "text/plain": [
       "   Channel_name       average_comments average_like average_views\n",
       "1  Alan Walker        16448.6916        384516.237   35185298.90 \n",
       "2  Alina Baraz          505.2295         25435.934    2059515.11 \n",
       "3  Andy Grammer               NA         16199.958            NA \n",
       "4  Bad Bunny          37894.4545       1306596.124  150384288.69 \n",
       "5  BANGTANTV          23118.8499                NA            NA \n",
       "6  Before You Exit     1202.9778         27924.533    1204828.93 \n",
       "7  Billie Eilish              NA                NA   22482373.65 \n",
       "8  BLACKPINK                  NA       1327231.736   56244924.77 \n",
       "9  Bruno Mars         36136.0206       1018490.660  162149749.64 \n",
       "10 cavetown                   NA         38200.779     963703.02 \n",
       "11 CHASE ATLANTIC      1623.7042         55335.901    2166893.94 \n",
       "12 CigarettesAfterSex  3733.3333        153671.667   15109849.53 \n",
       "13 Claire Cottrill            NA                NA    4305096.51 \n",
       "14 Clean Bandit        6272.1474        254542.603   42927409.24 \n",
       "15 Daddy Yankee        7264.4829        197140.229            NA \n",
       "16 Ed Sheeran                 NA        717687.527  104504451.88 \n",
       "17 EminemMusic         8051.8696                NA            NA \n",
       "18 ëžŒë‹¤ëžŒ           1238.1837         45450.541    1056690.54 \n",
       "19 FKA twigs           1093.1875         26614.339    1583100.21 \n",
       "20 H O N N E            600.4348         27136.812    3296456.44 \n",
       "21 Jorja Smith          622.7143         35459.143    1599265.71 \n",
       "22 Justin Bieber              NA                NA            NA \n",
       "23 Katy Perry                 NA                NA            NA \n",
       "24 Kim Petras           753.6026         16089.462    1050734.60 \n",
       "25 KygoMusic           1248.7458         64981.492   10469856.29 \n",
       "26 Maroon 5             775.9877                NA            NA \n",
       "27 Marshmello                 NA        397133.084   31368356.61 \n",
       "28 Nina Nesbitt         144.9529          4936.624     197393.13 \n",
       "29 Oliver Tree                NA        202859.072    9306642.29 \n",
       "30 One Direction       4637.4013                NA    3068518.63 \n",
       "31 Ozuna              21583.8759        697869.788  139879930.55 \n",
       "32 Rihanna              717.4430         11715.278    1042968.78 \n",
       "33 RUEL                 793.7547         27816.566     481886.98 \n",
       "34 Selena Gomez               NA         46739.687    3154006.15 \n",
       "35 Shakira                    NA                NA    1399269.91 \n",
       "36 Tate McRae                 NA         58809.748    1404986.84 \n",
       "37 Taylor Swift        2649.5185                NA    2110234.34 \n",
       "38 Tessa Violet               NA         30141.045    1061435.75 \n",
       "39 WOODZ                622.4430         10419.513      84586.11 \n",
       "40 XXXTENTACION       74343.9561       1073986.465   59209220.13 "
      ]
     },
     "metadata": {},
     "output_type": "display_data"
    }
   ],
   "source": [
    "df %>% group_by(Channel_name) %>% summarise(average_comments = mean(Video_Comments),\n",
    "                                                   average_like = mean(Video_Likes),\n",
    "                                                   average_views = mean(Video_Views) \n",
    "                                                  )"
   ]
  },
  {
   "cell_type": "code",
   "execution_count": 25,
   "id": "5a6ddd73-edf7-42b2-bf9c-326aa10e6c77",
   "metadata": {},
   "outputs": [],
   "source": [
    "df1 <- read.csv('merged_famed.csv')\n",
    "df2 <- read.csv('merged_underrated.csv')"
   ]
  },
  {
   "cell_type": "code",
   "execution_count": 27,
   "id": "c3ea8c5a-5922-4591-aeee-e502a4a2f4f5",
   "metadata": {},
   "outputs": [
    {
     "name": "stdout",
     "output_type": "stream",
     "text": [
      "Rows: 5,495\n",
      "Columns: 12\n",
      "$ X                 \u001b[3m\u001b[90m<int>\u001b[39m\u001b[23m 0, 1, 2, 3, 4, 5, 6, 7, 8, 9, 10, 11, 12, 13, 14, 15~\n",
      "$ Video_Title       \u001b[3m\u001b[90m<chr>\u001b[39m\u001b[23m \"Walkerverse - The Tour (Trailer)\", \"Walkerverse The~\n",
      "$ Video_PublishDate \u001b[3m\u001b[90m<chr>\u001b[39m\u001b[23m \"2022-05-06T14:08:30Z\", \"2022-05-06T14:00:11Z\", \"202~\n",
      "$ Video_Views       \u001b[3m\u001b[90m<dbl>\u001b[39m\u001b[23m 206768, 341236, 2572446, 140413, 286643, 128157, 883~\n",
      "$ Video_Likes       \u001b[3m\u001b[90m<dbl>\u001b[39m\u001b[23m 18705, 36454, 144067, 17054, 23234, 11094, 8680, 173~\n",
      "$ Video_Comments    \u001b[3m\u001b[90m<dbl>\u001b[39m\u001b[23m 1220, 2510, 7319, 561, 1336, 325, 203, 490, 2156, 32~\n",
      "$ Group             \u001b[3m\u001b[90m<chr>\u001b[39m\u001b[23m \"famed\", \"famed\", \"famed\", \"famed\", \"famed\", \"famed\"~\n",
      "$ Channel_name      \u001b[3m\u001b[90m<chr>\u001b[39m\u001b[23m \"Alan Walker\", \"Alan Walker\", \"Alan Walker\", \"Alan W~\n",
      "$ Subscribers       \u001b[3m\u001b[90m<int>\u001b[39m\u001b[23m 41800000, 41800000, 41800000, 41800000, 41800000, 41~\n",
      "$ Comments_rate     \u001b[3m\u001b[90m<dbl>\u001b[39m\u001b[23m 0.0029186603, 0.0060047847, 0.0175095694, 0.00134210~\n",
      "$ Likes_rate        \u001b[3m\u001b[90m<dbl>\u001b[39m\u001b[23m 0.04474880, 0.08721053, 0.34465789, 0.04079904, 0.05~\n",
      "$ Views_rate        \u001b[3m\u001b[90m<dbl>\u001b[39m\u001b[23m 0.4946603, 0.8163541, 6.1541770, 0.3359163, 0.685748~\n"
     ]
    }
   ],
   "source": [
    "df1 %>% glimpse()"
   ]
  },
  {
   "cell_type": "code",
   "execution_count": 28,
   "id": "d3810cbe-3bd6-4171-89d5-47637d4f1a17",
   "metadata": {},
   "outputs": [
    {
     "name": "stdout",
     "output_type": "stream",
     "text": [
      "Rows: 2,184\n",
      "Columns: 12\n",
      "$ X                 \u001b[3m\u001b[90m<int>\u001b[39m\u001b[23m 0, 1, 2, 3, 4, 5, 6, 7, 8, 9, 10, 11, 12, 13, 14, 15~\n",
      "$ Video_Title       \u001b[3m\u001b[90m<chr>\u001b[39m\u001b[23m \"Alina Baraz - Maze (Official Lyric Video)\", \"Alina ~\n",
      "$ Video_PublishDate \u001b[3m\u001b[90m<chr>\u001b[39m\u001b[23m \"2021-10-30T19:39:08Z\", \"2021-10-29T18:25:46Z\", \"202~\n",
      "$ Video_Views       \u001b[3m\u001b[90m<dbl>\u001b[39m\u001b[23m 570269, 247457, 463017, 215755, 456471, 382592, 3309~\n",
      "$ Video_Likes       \u001b[3m\u001b[90m<dbl>\u001b[39m\u001b[23m 11823, 5301, 8715, 5659, 13270, 9666, 11761, 56489, ~\n",
      "$ Video_Comments    \u001b[3m\u001b[90m<dbl>\u001b[39m\u001b[23m 366, 193, 216, 162, 322, 216, 334, 1700, 114, 87, 11~\n",
      "$ Group             \u001b[3m\u001b[90m<chr>\u001b[39m\u001b[23m \"underrated\", \"underrated\", \"underrated\", \"underrate~\n",
      "$ Channel_name      \u001b[3m\u001b[90m<chr>\u001b[39m\u001b[23m \"Alina Baraz\", \"Alina Baraz\", \"Alina Baraz\", \"Alina ~\n",
      "$ Subscribers       \u001b[3m\u001b[90m<int>\u001b[39m\u001b[23m 373000, 373000, 373000, 373000, 373000, 373000, 3730~\n",
      "$ Comments_rate     \u001b[3m\u001b[90m<dbl>\u001b[39m\u001b[23m 0.09812332, 0.05174263, 0.05790885, 0.04343164, 0.08~\n",
      "$ Likes_rate        \u001b[3m\u001b[90m<dbl>\u001b[39m\u001b[23m 3.1697051, 1.4211796, 2.3364611, 1.5171582, 3.557640~\n",
      "$ Views_rate        \u001b[3m\u001b[90m<dbl>\u001b[39m\u001b[23m 152.88713, 66.34236, 124.13324, 57.84316, 122.37828,~\n"
     ]
    }
   ],
   "source": [
    "df2 %>% glimpse()"
   ]
  },
  {
   "cell_type": "code",
   "execution_count": 30,
   "id": "337225aa-ca42-4640-95a4-49146f4be0fc",
   "metadata": {},
   "outputs": [],
   "source": [
    "sampled_df1 = df1[sample(nrow(df1), 2184), ]"
   ]
  },
  {
   "cell_type": "code",
   "execution_count": 34,
   "id": "2ec209ae-cb69-4624-9980-bba692296951",
   "metadata": {},
   "outputs": [],
   "source": [
    "test <- bind_rows(sampled_df1, df2)"
   ]
  },
  {
   "cell_type": "code",
   "execution_count": 35,
   "id": "a1bfa4d7-6b28-4976-8a58-e93f33bcaed1",
   "metadata": {},
   "outputs": [],
   "source": [
    "rownames(test)<-1:nrow(test)"
   ]
  },
  {
   "cell_type": "code",
   "execution_count": 37,
   "id": "e9ca8f87-cd66-4e4d-818b-651e3080bb19",
   "metadata": {},
   "outputs": [
    {
     "data": {
      "text/plain": [
       "\n",
       "\tWilcoxon rank sum test with continuity correction\n",
       "\n",
       "data:  Likes_rate by Group\n",
       "W = 1667694, p-value < 2.2e-16\n",
       "alternative hypothesis: true location shift is not equal to 0\n"
      ]
     },
     "metadata": {},
     "output_type": "display_data"
    }
   ],
   "source": [
    "wilcox.test(Likes_rate~Group, data = test)"
   ]
  },
  {
   "cell_type": "code",
   "execution_count": null,
   "id": "d1dc63e9-9b3e-4b63-8804-18cc5d84ae6f",
   "metadata": {},
   "outputs": [],
   "source": []
  }
 ],
 "metadata": {
  "kernelspec": {
   "display_name": "R 4.1.2",
   "language": "R",
   "name": "ir35"
  },
  "language_info": {
   "codemirror_mode": "r",
   "file_extension": ".r",
   "mimetype": "text/x-r-source",
   "name": "R",
   "pygments_lexer": "r",
   "version": "4.1.0"
  }
 },
 "nbformat": 4,
 "nbformat_minor": 5
}
